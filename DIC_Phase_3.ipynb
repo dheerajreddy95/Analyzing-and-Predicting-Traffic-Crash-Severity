{
  "cells": [
    {
      "cell_type": "code",
      "execution_count": 1,
      "metadata": {
        "colab": {
          "base_uri": "https://localhost:8080/"
        },
        "id": "1MBrua0ksLEo",
        "outputId": "284185d7-4f5f-49a3-d065-a729b5b8df25"
      },
      "outputs": [
        {
          "output_type": "stream",
          "name": "stdout",
          "text": [
            "Requirement already satisfied: pyspark in /usr/local/lib/python3.10/dist-packages (3.5.3)\n",
            "Requirement already satisfied: py4j==0.10.9.7 in /usr/local/lib/python3.10/dist-packages (from pyspark) (0.10.9.7)\n"
          ]
        }
      ],
      "source": [
        "!pip install pyspark"
      ]
    },
    {
      "cell_type": "code",
      "execution_count": 2,
      "metadata": {
        "id": "9UmeXcwns_hv"
      },
      "outputs": [],
      "source": [
        "from pyspark.sql import SparkSession\n",
        "from pyspark.sql.functions import col, window, avg, count\n",
        "from pyspark.ml import Pipeline"
      ]
    },
    {
      "cell_type": "code",
      "execution_count": 3,
      "metadata": {
        "id": "cCmRpzDSw6n8"
      },
      "outputs": [],
      "source": [
        "# Initialize Spark session\n",
        "spark = SparkSession.builder.appName(\"Distributed Data Preprocessing and ML Modeling\") .config(\"spark.some.config.option\", \"some-value\") .getOrCreate()"
      ]
    },
    {
      "cell_type": "code",
      "execution_count": 4,
      "metadata": {
        "colab": {
          "base_uri": "https://localhost:8080/"
        },
        "id": "DH3lDmGI2CDm",
        "outputId": "3ee34811-3aea-451c-9cb9-6055b600663c"
      },
      "outputs": [
        {
          "output_type": "stream",
          "name": "stdout",
          "text": [
            "root\n",
            " |-- CRASH_RECORD_ID: string (nullable = true)\n",
            " |-- CRASH_DATE_EST_I: string (nullable = true)\n",
            " |-- CRASH_DATE: string (nullable = true)\n",
            " |-- POSTED_SPEED_LIMIT: integer (nullable = true)\n",
            " |-- TRAFFIC_CONTROL_DEVICE: string (nullable = true)\n",
            " |-- DEVICE_CONDITION: string (nullable = true)\n",
            " |-- WEATHER_CONDITION: string (nullable = true)\n",
            " |-- LIGHTING_CONDITION: string (nullable = true)\n",
            " |-- FIRST_CRASH_TYPE: string (nullable = true)\n",
            " |-- TRAFFICWAY_TYPE: string (nullable = true)\n",
            " |-- LANE_CNT: integer (nullable = true)\n",
            " |-- ALIGNMENT: string (nullable = true)\n",
            " |-- ROADWAY_SURFACE_COND: string (nullable = true)\n",
            " |-- ROAD_DEFECT: string (nullable = true)\n",
            " |-- REPORT_TYPE: string (nullable = true)\n",
            " |-- CRASH_TYPE: string (nullable = true)\n",
            " |-- INTERSECTION_RELATED_I: string (nullable = true)\n",
            " |-- NOT_RIGHT_OF_WAY_I: string (nullable = true)\n",
            " |-- HIT_AND_RUN_I: string (nullable = true)\n",
            " |-- DAMAGE: string (nullable = true)\n",
            " |-- DATE_POLICE_NOTIFIED: string (nullable = true)\n",
            " |-- PRIM_CONTRIBUTORY_CAUSE: string (nullable = true)\n",
            " |-- SEC_CONTRIBUTORY_CAUSE: string (nullable = true)\n",
            " |-- STREET_NO: integer (nullable = true)\n",
            " |-- STREET_DIRECTION: string (nullable = true)\n",
            " |-- STREET_NAME: string (nullable = true)\n",
            " |-- BEAT_OF_OCCURRENCE: integer (nullable = true)\n",
            " |-- PHOTOS_TAKEN_I: string (nullable = true)\n",
            " |-- STATEMENTS_TAKEN_I: string (nullable = true)\n",
            " |-- DOORING_I: string (nullable = true)\n",
            " |-- WORK_ZONE_I: string (nullable = true)\n",
            " |-- WORK_ZONE_TYPE: string (nullable = true)\n",
            " |-- WORKERS_PRESENT_I: string (nullable = true)\n",
            " |-- NUM_UNITS: integer (nullable = true)\n",
            " |-- MOST_SEVERE_INJURY: string (nullable = true)\n",
            " |-- INJURIES_TOTAL: integer (nullable = true)\n",
            " |-- INJURIES_FATAL: integer (nullable = true)\n",
            " |-- INJURIES_INCAPACITATING: integer (nullable = true)\n",
            " |-- INJURIES_NON_INCAPACITATING: integer (nullable = true)\n",
            " |-- INJURIES_REPORTED_NOT_EVIDENT: integer (nullable = true)\n",
            " |-- INJURIES_NO_INDICATION: integer (nullable = true)\n",
            " |-- INJURIES_UNKNOWN: integer (nullable = true)\n",
            " |-- CRASH_HOUR: integer (nullable = true)\n",
            " |-- CRASH_DAY_OF_WEEK: integer (nullable = true)\n",
            " |-- CRASH_MONTH: integer (nullable = true)\n",
            " |-- LATITUDE: double (nullable = true)\n",
            " |-- LONGITUDE: double (nullable = true)\n",
            " |-- LOCATION: string (nullable = true)\n",
            "\n",
            "+--------------------+----------------+--------------------+------------------+----------------------+--------------------+-----------------+------------------+--------------------+--------------------+--------+------------------+--------------------+-----------+-----------+--------------------+----------------------+------------------+-------------+-------------+--------------------+-----------------------+----------------------+---------+----------------+-----------+------------------+--------------+------------------+---------+-----------+--------------+-----------------+---------+--------------------+--------------+--------------+-----------------------+---------------------------+-----------------------------+----------------------+----------------+----------+-----------------+-----------+------------+-------------+--------------------+\n",
            "|     CRASH_RECORD_ID|CRASH_DATE_EST_I|          CRASH_DATE|POSTED_SPEED_LIMIT|TRAFFIC_CONTROL_DEVICE|    DEVICE_CONDITION|WEATHER_CONDITION|LIGHTING_CONDITION|    FIRST_CRASH_TYPE|     TRAFFICWAY_TYPE|LANE_CNT|         ALIGNMENT|ROADWAY_SURFACE_COND|ROAD_DEFECT|REPORT_TYPE|          CRASH_TYPE|INTERSECTION_RELATED_I|NOT_RIGHT_OF_WAY_I|HIT_AND_RUN_I|       DAMAGE|DATE_POLICE_NOTIFIED|PRIM_CONTRIBUTORY_CAUSE|SEC_CONTRIBUTORY_CAUSE|STREET_NO|STREET_DIRECTION|STREET_NAME|BEAT_OF_OCCURRENCE|PHOTOS_TAKEN_I|STATEMENTS_TAKEN_I|DOORING_I|WORK_ZONE_I|WORK_ZONE_TYPE|WORKERS_PRESENT_I|NUM_UNITS|  MOST_SEVERE_INJURY|INJURIES_TOTAL|INJURIES_FATAL|INJURIES_INCAPACITATING|INJURIES_NON_INCAPACITATING|INJURIES_REPORTED_NOT_EVIDENT|INJURIES_NO_INDICATION|INJURIES_UNKNOWN|CRASH_HOUR|CRASH_DAY_OF_WEEK|CRASH_MONTH|    LATITUDE|    LONGITUDE|            LOCATION|\n",
            "+--------------------+----------------+--------------------+------------------+----------------------+--------------------+-----------------+------------------+--------------------+--------------------+--------+------------------+--------------------+-----------+-----------+--------------------+----------------------+------------------+-------------+-------------+--------------------+-----------------------+----------------------+---------+----------------+-----------+------------------+--------------+------------------+---------+-----------+--------------+-----------------+---------+--------------------+--------------+--------------+-----------------------+---------------------------+-----------------------------+----------------------+----------------+----------+-----------------+-----------+------------+-------------+--------------------+\n",
            "|6c1659069e9c6285a...|            NULL|08/18/2023 12:50:...|                15|                 OTHER|FUNCTIONING PROPERLY|            CLEAR|          DAYLIGHT|            REAR END|               OTHER|    NULL|STRAIGHT AND LEVEL|                 DRY| NO DEFECTS|   ON SCENE|INJURY AND / OR T...|                  NULL|              NULL|         NULL|  OVER $1,500|08/18/2023 12:55:...|   FOLLOWING TOO CLO...|  DISTRACTION - FRO...|      700|               W|   OHARE ST|              1654|          NULL|              NULL|     NULL|       NULL|          NULL|             NULL|        2|NONINCAPACITATING...|             1|             0|                      0|                          1|                            0|                     1|               0|        12|                6|          8|        NULL|         NULL|                NULL|\n",
            "|5f54a59fcb087b12a...|            NULL|07/29/2023 02:45:...|                30|        TRAFFIC SIGNAL|FUNCTIONING PROPERLY|            CLEAR|          DAYLIGHT|PARKED MOTOR VEHICLE|DIVIDED - W/MEDIA...|    NULL|STRAIGHT AND LEVEL|                 DRY| NO DEFECTS|   ON SCENE|NO INJURY / DRIVE...|                  NULL|              NULL|            Y|  OVER $1,500|07/29/2023 02:45:...|   FAILING TO REDUCE...|  OPERATING VEHICLE...|     2101|               S|ASHLAND AVE|              1235|          NULL|              NULL|     NULL|       NULL|          NULL|             NULL|        4|NO INDICATION OF ...|             0|             0|                      0|                          0|                            0|                     1|               0|        14|                7|          7|41.854120263|-87.665902343|POINT (-87.665902...|\n",
            "|61fcb8c1eb522a646...|            NULL|08/18/2023 05:58:...|                30|           NO CONTROLS|         NO CONTROLS|            CLEAR|          DAYLIGHT|        PEDALCYCLIST|         NOT DIVIDED|    NULL|STRAIGHT AND LEVEL|                 DRY| NO DEFECTS|   ON SCENE|INJURY AND / OR T...|                  NULL|              NULL|         NULL|$501 - $1,500|08/18/2023 06:01:...|   FAILING TO REDUCE...|   UNABLE TO DETERMINE|     3422|               N|   LONG AVE|              1633|          NULL|              NULL|     NULL|       NULL|          NULL|             NULL|        2|NONINCAPACITATING...|             1|             0|                      0|                          1|                            0|                     1|               0|        17|                6|          8|41.942975745|-87.761883497|POINT (-87.761883...|\n",
            "|004cd14d0303a9163...|            NULL|11/26/2019 08:38:...|                25|           NO CONTROLS|         NO CONTROLS|            CLEAR|          DAYLIGHT|          PEDESTRIAN|             ONE-WAY|    NULL|    CURVE ON GRADE|                 DRY| NO DEFECTS|   ON SCENE|INJURY AND / OR T...|                  NULL|              NULL|         NULL|  OVER $1,500|11/26/2019 08:38:...|    UNABLE TO DETERMINE|        NOT APPLICABLE|        5|               W|TERMINAL ST|              1655|             Y|                 Y|     NULL|       NULL|          NULL|             NULL|        2|               FATAL|             1|             1|                      0|                          0|                            0|                     1|               0|         8|                3|         11|        NULL|         NULL|                NULL|\n",
            "|a1d5f0ea908977453...|            NULL|08/18/2023 10:45:...|                20|           NO CONTROLS|         NO CONTROLS|            CLEAR|          DAYLIGHT|        FIXED OBJECT|               OTHER|    NULL|STRAIGHT AND LEVEL|                 DRY| NO DEFECTS|   ON SCENE|NO INJURY / DRIVE...|                  NULL|              NULL|         NULL|  OVER $1,500|08/18/2023 10:48:...|   FOLLOWING TOO CLO...|  DRIVING SKILLS/KN...|        3|               W|TERMINAL ST|              1653|          NULL|              NULL|     NULL|       NULL|          NULL|             NULL|        1|NO INDICATION OF ...|             0|             0|                      0|                          0|                            0|                     1|               0|        10|                6|          8|        NULL|         NULL|                NULL|\n",
            "+--------------------+----------------+--------------------+------------------+----------------------+--------------------+-----------------+------------------+--------------------+--------------------+--------+------------------+--------------------+-----------+-----------+--------------------+----------------------+------------------+-------------+-------------+--------------------+-----------------------+----------------------+---------+----------------+-----------+------------------+--------------+------------------+---------+-----------+--------------+-----------------+---------+--------------------+--------------+--------------+-----------------------+---------------------------+-----------------------------+----------------------+----------------+----------+-----------------+-----------+------------+-------------+--------------------+\n",
            "only showing top 5 rows\n",
            "\n"
          ]
        }
      ],
      "source": [
        "# Load dataset\n",
        "file_path = \"/content/Traffic_Crashes_-_Crashes.csv\"\n",
        "data = spark.read.csv(file_path, header=True, inferSchema=True)\n",
        "\n",
        "# Inspect schema and data\n",
        "data.printSchema()\n",
        "data.show(5)\n"
      ]
    },
    {
      "cell_type": "code",
      "source": [
        "num_rows = data.count()\n",
        "num_cols = len(data.columns)\n",
        "print(f\"Shape of the DataFrame: ({num_rows},{num_cols})\")"
      ],
      "metadata": {
        "colab": {
          "base_uri": "https://localhost:8080/"
        },
        "id": "G1fSpZcV6fpP",
        "outputId": "015e6e93-8f58-40d9-9ed5-0f3eec6fe616"
      },
      "execution_count": 6,
      "outputs": [
        {
          "output_type": "stream",
          "name": "stdout",
          "text": [
            "Shape of the DataFrame: (876966,48)\n"
          ]
        }
      ]
    },
    {
      "cell_type": "code",
      "execution_count": 7,
      "metadata": {
        "id": "1I6fC6lI6F7Q"
      },
      "outputs": [],
      "source": [
        "df=data"
      ]
    },
    {
      "cell_type": "markdown",
      "metadata": {
        "id": "zQ0SUgHz6k8A"
      },
      "source": [
        "# **Distributed Data Cleaning/Processing**"
      ]
    },
    {
      "cell_type": "markdown",
      "source": [
        "**Remove duplicate rows**"
      ],
      "metadata": {
        "id": "dXQ8Y6ug6--u"
      }
    },
    {
      "cell_type": "code",
      "execution_count": 8,
      "metadata": {
        "id": "nAz95CP_6f1G"
      },
      "outputs": [],
      "source": [
        "# Remove duplicate rows\n",
        "df_no_duplicates = df.dropDuplicates()"
      ]
    },
    {
      "cell_type": "markdown",
      "source": [
        "**Handle Missing Values by Column Type**"
      ],
      "metadata": {
        "id": "U6nYkbAHG5_O"
      }
    },
    {
      "cell_type": "code",
      "source": [
        "from pyspark.sql.functions import mean, col, count, when, lit\n",
        "\n",
        "# Step 1: Handle numeric columns\n",
        "numeric_cols = [col_name for col_name, dtype in df_no_duplicates.dtypes if dtype in ('int', 'double')]\n",
        "\n",
        "# Calculate the mean for numeric columns and fill nulls\n",
        "for col_name in numeric_cols:\n",
        "    mean_value = df_no_duplicates.select(mean(col(col_name)).alias('mean')).collect()[0]['mean']\n",
        "    df_no_duplicates = df_no_duplicates.withColumn(col_name,when(col(col_name).isNull(), lit(mean_value)).otherwise(col(col_name)))\n",
        "\n",
        "# Step 2: Handle categorical columns\n",
        "categorical_cols = [col_name for col_name, dtype in df_no_duplicates.dtypes if dtype == 'string']\n",
        "\n",
        "# Fill nulls with the mode (most frequent value) for categorical columns\n",
        "for col_name in categorical_cols:\n",
        "    mode_row = (df_no_duplicates.groupBy(col_name).count().orderBy(col(\"count\").desc()).first())\n",
        "    if mode_row:\n",
        "        mode_value = mode_row[col_name]\n",
        "        df_no_duplicates = df_no_duplicates.withColumn(col_name,when(col(col_name).isNull(), lit(mode_value)).otherwise(col(col_name)))\n",
        "\n",
        "# Step 3: Checking any NULL values are present\n",
        "df_no_duplicates.select([count(when(col(c).isNull(), c)).alias(c) for c in df_no_duplicates.columns]).show()\n"
      ],
      "metadata": {
        "colab": {
          "base_uri": "https://localhost:8080/"
        },
        "id": "PkV5M6Rk36Mr",
        "outputId": "817c6350-2bf0-4389-b6cb-6b67c32a4429"
      },
      "execution_count": 9,
      "outputs": [
        {
          "output_type": "stream",
          "name": "stdout",
          "text": [
            "+---------------+----------------+----------+------------------+----------------------+----------------+-----------------+------------------+----------------+---------------+--------+---------+--------------------+-----------+-----------+----------+----------------------+------------------+-------------+------+--------------------+-----------------------+----------------------+---------+----------------+-----------+------------------+--------------+------------------+---------+-----------+--------------+-----------------+---------+------------------+--------------+--------------+-----------------------+---------------------------+-----------------------------+----------------------+----------------+----------+-----------------+-----------+--------+---------+--------+\n",
            "|CRASH_RECORD_ID|CRASH_DATE_EST_I|CRASH_DATE|POSTED_SPEED_LIMIT|TRAFFIC_CONTROL_DEVICE|DEVICE_CONDITION|WEATHER_CONDITION|LIGHTING_CONDITION|FIRST_CRASH_TYPE|TRAFFICWAY_TYPE|LANE_CNT|ALIGNMENT|ROADWAY_SURFACE_COND|ROAD_DEFECT|REPORT_TYPE|CRASH_TYPE|INTERSECTION_RELATED_I|NOT_RIGHT_OF_WAY_I|HIT_AND_RUN_I|DAMAGE|DATE_POLICE_NOTIFIED|PRIM_CONTRIBUTORY_CAUSE|SEC_CONTRIBUTORY_CAUSE|STREET_NO|STREET_DIRECTION|STREET_NAME|BEAT_OF_OCCURRENCE|PHOTOS_TAKEN_I|STATEMENTS_TAKEN_I|DOORING_I|WORK_ZONE_I|WORK_ZONE_TYPE|WORKERS_PRESENT_I|NUM_UNITS|MOST_SEVERE_INJURY|INJURIES_TOTAL|INJURIES_FATAL|INJURIES_INCAPACITATING|INJURIES_NON_INCAPACITATING|INJURIES_REPORTED_NOT_EVIDENT|INJURIES_NO_INDICATION|INJURIES_UNKNOWN|CRASH_HOUR|CRASH_DAY_OF_WEEK|CRASH_MONTH|LATITUDE|LONGITUDE|LOCATION|\n",
            "+---------------+----------------+----------+------------------+----------------------+----------------+-----------------+------------------+----------------+---------------+--------+---------+--------------------+-----------+-----------+----------+----------------------+------------------+-------------+------+--------------------+-----------------------+----------------------+---------+----------------+-----------+------------------+--------------+------------------+---------+-----------+--------------+-----------------+---------+------------------+--------------+--------------+-----------------------+---------------------------+-----------------------------+----------------------+----------------+----------+-----------------+-----------+--------+---------+--------+\n",
            "|              0|          811913|         0|                 0|                     0|               0|                0|                 0|               0|              0|       0|        0|                   0|          0|          0|         0|                675825|            836877|       601973|     0|                   0|                      0|                     0|        0|               0|          0|                 0|        865098|            856911|   874204|     872018|        873145|           875695|        0|                 0|             0|             0|                      0|                          0|                            0|                     0|               0|         0|                0|          0|       0|        0|    6239|\n",
            "+---------------+----------------+----------+------------------+----------------------+----------------+-----------------+------------------+----------------+---------------+--------+---------+--------------------+-----------+-----------+----------+----------------------+------------------+-------------+------+--------------------+-----------------------+----------------------+---------+----------------+-----------+------------------+--------------+------------------+---------+-----------+--------------+-----------------+---------+------------------+--------------+--------------+-----------------------+---------------------------+-----------------------------+----------------------+----------------+----------+-----------------+-----------+--------+---------+--------+\n",
            "\n"
          ]
        }
      ]
    },
    {
      "cell_type": "code",
      "source": [
        "df_no_duplicates.show()"
      ],
      "metadata": {
        "colab": {
          "base_uri": "https://localhost:8080/"
        },
        "id": "tsMPDhHAJFhL",
        "outputId": "2a0fca19-3983-4fc1-c58a-257fd0b2b179"
      },
      "execution_count": 10,
      "outputs": [
        {
          "output_type": "stream",
          "name": "stdout",
          "text": [
            "+--------------------+----------------+--------------------+------------------+----------------------+--------------------+-----------------+--------------------+--------------------+--------------------+------------------+------------------+--------------------+-----------+--------------------+--------------------+----------------------+------------------+-------------+-------------+--------------------+-----------------------+----------------------+---------+----------------+-----------------+------------------+--------------+------------------+---------+-----------+--------------+-----------------+---------+--------------------+-------------------+--------------------+-----------------------+---------------------------+-----------------------------+----------------------+----------------+----------+-----------------+-----------+------------------+------------------+--------------------+\n",
            "|     CRASH_RECORD_ID|CRASH_DATE_EST_I|          CRASH_DATE|POSTED_SPEED_LIMIT|TRAFFIC_CONTROL_DEVICE|    DEVICE_CONDITION|WEATHER_CONDITION|  LIGHTING_CONDITION|    FIRST_CRASH_TYPE|     TRAFFICWAY_TYPE|          LANE_CNT|         ALIGNMENT|ROADWAY_SURFACE_COND|ROAD_DEFECT|         REPORT_TYPE|          CRASH_TYPE|INTERSECTION_RELATED_I|NOT_RIGHT_OF_WAY_I|HIT_AND_RUN_I|       DAMAGE|DATE_POLICE_NOTIFIED|PRIM_CONTRIBUTORY_CAUSE|SEC_CONTRIBUTORY_CAUSE|STREET_NO|STREET_DIRECTION|      STREET_NAME|BEAT_OF_OCCURRENCE|PHOTOS_TAKEN_I|STATEMENTS_TAKEN_I|DOORING_I|WORK_ZONE_I|WORK_ZONE_TYPE|WORKERS_PRESENT_I|NUM_UNITS|  MOST_SEVERE_INJURY|     INJURIES_TOTAL|      INJURIES_FATAL|INJURIES_INCAPACITATING|INJURIES_NON_INCAPACITATING|INJURIES_REPORTED_NOT_EVIDENT|INJURIES_NO_INDICATION|INJURIES_UNKNOWN|CRASH_HOUR|CRASH_DAY_OF_WEEK|CRASH_MONTH|          LATITUDE|         LONGITUDE|            LOCATION|\n",
            "+--------------------+----------------+--------------------+------------------+----------------------+--------------------+-----------------+--------------------+--------------------+--------------------+------------------+------------------+--------------------+-----------+--------------------+--------------------+----------------------+------------------+-------------+-------------+--------------------+-----------------------+----------------------+---------+----------------+-----------------+------------------+--------------+------------------+---------+-----------+--------------+-----------------+---------+--------------------+-------------------+--------------------+-----------------------+---------------------------+-----------------------------+----------------------+----------------+----------+-----------------+-----------+------------------+------------------+--------------------+\n",
            "|2cbbf3e2c933b745e...|               Y|10/06/2018 03:30:...|              30.0|           NO CONTROLS|         NO CONTROLS|            CLEAR|            DAYLIGHT|  OTHER NONCOLLISION|         NOT DIVIDED|               2.0|STRAIGHT AND LEVEL|                 DRY| NO DEFECTS|NOT ON SCENE (DES...|NO INJURY / DRIVE...|                  NULL|              NULL|         NULL|  OVER $1,500|10/07/2018 11:45:...|         NOT APPLICABLE|        NOT APPLICABLE|   5462.0|               N|       LAWLER AVE|            1621.0|          NULL|              NULL|     NULL|       NULL|          NULL|             NULL|      1.0|NO INDICATION OF ...|0.19333626654933803|0.001193095133337...|    0.01984492048889473|        0.10856251464227146|          0.06373573628483432|     2.001519939202432|             0.0|      15.0|              7.0|       10.0|      41.981463658|     -87.752479702|POINT (-87.752479...|\n",
            "|5d8c8fb0e256d5783...|               Y|02/05/2023 11:50:...|              10.0|           NO CONTROLS|         NO CONTROLS|            OTHER|            DAYLIGHT|            REAR END|               OTHER|13.329757406439683|STRAIGHT AND LEVEL|                 WET|    UNKNOWN|NOT ON SCENE (DES...|NO INJURY / DRIVE...|                  NULL|                 Y|         NULL|$501 - $1,500|02/05/2023 12:10:...|         NOT APPLICABLE|        NOT APPLICABLE|   7935.0|               S|    VINCENNES AVE|             623.0|          NULL|              NULL|     NULL|       NULL|          NULL|             NULL|      2.0|NO INDICATION OF ...|0.19333626654933803|0.001193095133337...|    0.01984492048889473|        0.10856251464227146|          0.06373573628483432|     2.001519939202432|             0.0|      11.0|              1.0|        2.0|      41.749717688|     -87.634343461|POINT (-87.634343...|\n",
            "|82f9fa9081236bdc3...|            NULL|09/03/2019 07:40:...|              30.0|        TRAFFIC SIGNAL|FUNCTIONING PROPERLY|             RAIN|                DAWN|             TURNING|DIVIDED - W/MEDIA...|13.329757406439683|STRAIGHT AND LEVEL|                 WET| NO DEFECTS|            ON SCENE|INJURY AND / OR T...|                     Y|              NULL|         NULL|  OVER $1,500|09/03/2019 07:48:...|    UNABLE TO DETERMINE|   UNABLE TO DETERMINE|    162.0|               N|BESSIE COLEMAN DR|            1654.0|          NULL|              NULL|     NULL|       NULL|          NULL|             NULL|      2.0|NONINCAPACITATING...|                2.0|                 0.0|                    0.0|                        2.0|                          0.0|                   0.0|             0.0|       7.0|              3.0|        9.0|41.855103482190124|-87.67365186231065|                NULL|\n",
            "|2cb8ea87d5ae15e5d...|               Y|06/26/2021 03:45:...|              20.0|        TRAFFIC SIGNAL|FUNCTIONING PROPERLY|             RAIN|            DAYLIGHT|             TURNING|            FOUR WAY|13.329757406439683|STRAIGHT AND LEVEL|                 WET| NO DEFECTS|            ON SCENE|INJURY AND / OR T...|                     Y|              NULL|         NULL|  OVER $1,500|06/26/2021 03:55:...|   FAILING TO YIELD ...|  FAILING TO YIELD ...|    200.0|               W|          87TH ST|             622.0|          NULL|              NULL|     NULL|       NULL|          NULL|             NULL|      2.0|INCAPACITATING IN...|                3.0|                 0.0|                    2.0|                        1.0|                          0.0|                   0.0|             0.0|      15.0|              7.0|        6.0|      41.736261699|     -87.629064716|POINT (-87.629064...|\n",
            "|2704410f25fc395a6...|            NULL|05/30/2023 05:38:...|              35.0|           NO CONTROLS|         NO CONTROLS|            CLEAR|                DAWN|        FIXED OBJECT|         NOT DIVIDED|13.329757406439683|STRAIGHT AND LEVEL|                 DRY|    UNKNOWN|            ON SCENE|INJURY AND / OR T...|                  NULL|              NULL|         NULL|  OVER $1,500|05/30/2023 05:38:...|    UNABLE TO DETERMINE|  PHYSICAL CONDITIO...|    314.0|               W|          47TH ST|             925.0|          NULL|              NULL|     NULL|       NULL|          NULL|             NULL|      1.0|NONINCAPACITATING...|                1.0|                 0.0|                    0.0|                        1.0|                          0.0|                   0.0|             0.0|       5.0|              3.0|        5.0|      41.809188224|     -87.634019837|POINT (-87.634019...|\n",
            "|28c14ed7ad61f047a...|            NULL|12/25/2022 07:46:...|              30.0|           NO CONTROLS|         NO CONTROLS|            CLEAR|            DAYLIGHT|        FIXED OBJECT|         NOT DIVIDED|13.329757406439683|STRAIGHT AND LEVEL|                 WET| NO DEFECTS|            ON SCENE|INJURY AND / OR T...|                  NULL|                 Y|         NULL|  OVER $1,500|12/25/2022 07:46:...|   FAILING TO REDUCE...|  DRIVING SKILLS/KN...|    326.0|               N|      CENTRAL AVE|            1512.0|          NULL|              NULL|     NULL|       NULL|          NULL|             NULL|      2.0|REPORTED, NOT EVI...|                1.0|                 0.0|                    0.0|                        0.0|                          1.0|                   0.0|             0.0|       7.0|              1.0|       12.0|      41.886554499|     -87.765234303|POINT (-87.765234...|\n",
            "|11855340ed6efafab...|            NULL|08/28/2021 10:30:...|              30.0|     STOP SIGN/FLASHER|FUNCTIONING PROPERLY|            CLEAR|            DAYLIGHT|             TURNING|            FOUR WAY|13.329757406439683|STRAIGHT AND LEVEL|                 DRY| NO DEFECTS|            ON SCENE|INJURY AND / OR T...|                     Y|              NULL|         NULL|  OVER $1,500|08/28/2021 10:31:...|    IMPROPER LANE USAGE|        NOT APPLICABLE|    602.0|               N|        HOMAN AVE|            1121.0|          NULL|              NULL|     NULL|       NULL|          NULL|             NULL|      3.0|REPORTED, NOT EVI...|                2.0|                 0.0|                    0.0|                        0.0|                          2.0|                   0.0|             0.0|      10.0|              7.0|        8.0|       41.89198916|     -87.711477316|POINT (-87.711477...|\n",
            "|33b4130ce466355a0...|            NULL|08/18/2018 08:18:...|              30.0|     STOP SIGN/FLASHER|FUNCTIONING PROPERLY|            CLEAR|            DAYLIGHT|               ANGLE|         NOT DIVIDED|               2.0|STRAIGHT AND LEVEL|                 DRY| NO DEFECTS|            ON SCENE|INJURY AND / OR T...|                     Y|              NULL|         NULL| $500 OR LESS|08/18/2018 08:40:...|    UNABLE TO DETERMINE|   UNABLE TO DETERMINE|    829.0|               W|        GRAND AVE|            1214.0|          NULL|              NULL|     NULL|       NULL|          NULL|             NULL|      2.0|NONINCAPACITATING...|                5.0|                 0.0|                    0.0|                        5.0|                          0.0|                   0.0|             0.0|      20.0|              7.0|        8.0|      41.891060041|     -87.648732537|POINT (-87.648732...|\n",
            "|3f24360e4fad20018...|            NULL|07/04/2017 01:18:...|              30.0|        TRAFFIC SIGNAL|FUNCTIONING PROPERLY|            CLEAR|            DAYLIGHT|               ANGLE|         NOT DIVIDED|               0.0|STRAIGHT AND LEVEL|                 DRY| NO DEFECTS|            ON SCENE|INJURY AND / OR T...|                     Y|              NULL|         NULL|  OVER $1,500|07/04/2017 01:18:...|   DISREGARDING TRAF...|  FAILING TO REDUCE...|   2001.0|               W|      HARRISON ST|            1225.0|          NULL|              NULL|     NULL|       NULL|          NULL|             NULL|      2.0|INCAPACITATING IN...|                2.0|                 0.0|                    2.0|                        0.0|                          0.0|                   0.0|             0.0|      13.0|              3.0|        7.0|      41.873931754|     -87.676511652|POINT (-87.676511...|\n",
            "|386075b396a277460...|            NULL|11/06/2021 04:57:...|              30.0|        TRAFFIC SIGNAL|FUNCTIONING PROPERLY|            CLEAR|            DAYLIGHT|        FIXED OBJECT|            FOUR WAY|13.329757406439683|STRAIGHT AND LEVEL|                 DRY| NO DEFECTS|            ON SCENE|INJURY AND / OR T...|                     Y|              NULL|         NULL|  OVER $1,500|11/06/2021 04:57:...|   DISREGARDING TRAF...|  DISREGARDING TRAF...|   2010.0|               W|          51ST ST|             931.0|          NULL|              NULL|     NULL|       NULL|          NULL|             NULL|      1.0|NONINCAPACITATING...|                1.0|                 0.0|                    0.0|                        1.0|                          0.0|                   0.0|             0.0|      16.0|              7.0|       11.0|      41.801337356|     -87.675025707|POINT (-87.675025...|\n",
            "|19dc8a6f6b8432179...|            NULL|05/14/2018 08:00:...|              25.0|           NO CONTROLS|         NO CONTROLS|             RAIN|            DAYLIGHT|PARKED MOTOR VEHICLE|         NOT DIVIDED|               2.0|STRAIGHT AND LEVEL|                 WET| NO DEFECTS|            ON SCENE|INJURY AND / OR T...|                  NULL|              NULL|         NULL|  OVER $1,500|05/14/2018 08:03:...|    UNABLE TO DETERMINE|   UNABLE TO DETERMINE|   2305.0|               W|        TOUHY AVE|            2411.0|          NULL|              NULL|     NULL|       NULL|          NULL|             NULL|      2.0|NONINCAPACITATING...|                1.0|                 0.0|                    0.0|                        1.0|                          0.0|                   0.0|             0.0|       8.0|              2.0|        5.0|      42.012150042|     -87.688205566|POINT (-87.688205...|\n",
            "|2a2c563c4b27901d4...|            NULL|07/09/2020 06:45:...|              30.0|           NO CONTROLS|         NO CONTROLS|            CLEAR|            DAYLIGHT|        PEDALCYCLIST|DIVIDED - W/MEDIA...|13.329757406439683|STRAIGHT AND LEVEL|                 DRY| NO DEFECTS|            ON SCENE|INJURY AND / OR T...|                  NULL|              NULL|         NULL| $500 OR LESS|07/09/2020 06:50:...|    UNABLE TO DETERMINE|        NOT APPLICABLE|   2406.0|               N|    MILWAUKEE AVE|            1414.0|          NULL|              NULL|        Y|       NULL|          NULL|             NULL|      2.0|NONINCAPACITATING...|                1.0|                 0.0|                    0.0|                        1.0|                          0.0|                   0.0|             0.0|       6.0|              5.0|        7.0|      41.924840687|     -87.700738063|POINT (-87.700738...|\n",
            "|3ccde79d5bc12f679...|               Y|10/14/2018 12:20:...|              30.0|           NO CONTROLS|         NO CONTROLS|            CLEAR|DARKNESS, LIGHTED...|        FIXED OBJECT|         NOT DIVIDED|               4.0|STRAIGHT AND LEVEL|                 DRY| NO DEFECTS|NOT ON SCENE (DES...|INJURY AND / OR T...|                  NULL|                 Y|         NULL|  OVER $1,500|10/14/2018 12:26:...|   EXCEEDING AUTHORI...|  FAILING TO REDUCE...|   2460.0|               S|       ARCHER AVE|             914.0|          NULL|              NULL|     NULL|       NULL|          NULL|             NULL|      1.0|NONINCAPACITATING...|                1.0|                 0.0|                    0.0|                        1.0|                          0.0|                   0.0|             0.0|       0.0|              1.0|       10.0|      41.848024985|     -87.645089474|POINT (-87.645089...|\n",
            "|196c4bc1d8cfe1b60...|            NULL|01/16/2020 03:30:...|              15.0|           NO CONTROLS|         NO CONTROLS|            CLEAR|            DAYLIGHT|               ANGLE|DIVIDED - W/MEDIA...|13.329757406439683|STRAIGHT AND LEVEL|                 DRY| NO DEFECTS|            ON SCENE|INJURY AND / OR T...|                  NULL|              NULL|         NULL|  OVER $1,500|01/16/2020 03:35:...|   DRIVING SKILLS/KN...|   UNABLE TO DETERMINE|   2541.0|               S|       WALLACE ST|             914.0|          NULL|              NULL|     NULL|       NULL|          NULL|             NULL|      2.0|NONINCAPACITATING...|                2.0|                 0.0|                    0.0|                        1.0|                          1.0|                   0.0|             0.0|      15.0|              5.0|        1.0|      41.845985206|     -87.641444054|POINT (-87.641444...|\n",
            "|3f05fc178eb6c1729...|            NULL|02/11/2020 11:45:...|              35.0|           NO CONTROLS|         NO CONTROLS|            CLEAR|DARKNESS, LIGHTED...|        FIXED OBJECT|DIVIDED - W/MEDIA...|13.329757406439683|STRAIGHT AND LEVEL|                 DRY| NO DEFECTS|            ON SCENE|INJURY AND / OR T...|                     N|              NULL|         NULL|  OVER $1,500|02/11/2020 11:59:...|   FAILING TO REDUCE...|  DISTRACTION - FRO...|   2629.0|               E|         130TH ST|             434.0|          NULL|              NULL|     NULL|       NULL|          NULL|             NULL|      1.0|NONINCAPACITATING...|                1.0|                 0.0|                    0.0|                        1.0|                          0.0|                   0.0|             0.0|      23.0|              3.0|        2.0|      41.659076075|     -87.559364801|POINT (-87.559364...|\n",
            "|0f75a3cdc3cce70eb...|            NULL|09/25/2021 03:18:...|              30.0|           NO CONTROLS|         NO CONTROLS|             RAIN|DARKNESS, LIGHTED...|PARKED MOTOR VEHICLE|             ONE-WAY|13.329757406439683|STRAIGHT AND LEVEL|                 WET| NO DEFECTS|            ON SCENE|INJURY AND / OR T...|                  NULL|                 Y|         NULL|  OVER $1,500|09/25/2021 03:20:...|   PHYSICAL CONDITIO...|   UNABLE TO DETERMINE|   2745.0|               W|      WARREN BLVD|            1222.0|          NULL|              NULL|     NULL|       NULL|          NULL|             NULL|      5.0|NONINCAPACITATING...|                1.0|                 0.0|                    0.0|                        1.0|                          0.0|                   0.0|             0.0|       3.0|              7.0|        9.0|      41.881888268|     -87.695674471|POINT (-87.695674...|\n",
            "|111ce27594bf89832...|            NULL|10/15/2023 07:50:...|              15.0|           NO CONTROLS|         NO CONTROLS|            CLEAR|            DARKNESS|          OVERTURNED|             ONE-WAY|13.329757406439683|      CURVE, LEVEL|                 DRY| NO DEFECTS|            ON SCENE|INJURY AND / OR T...|                  NULL|              NULL|         NULL|  OVER $1,500|10/15/2023 07:58:...|   OPERATING VEHICLE...|  FAILING TO REDUCE...|   2918.0|               W|          MANN DR|             831.0|          NULL|              NULL|     NULL|       NULL|          NULL|             NULL|      1.0|NONINCAPACITATING...|                6.0|                 0.0|                    0.0|                        6.0|                          0.0|                   0.0|             0.0|      19.0|              1.0|       10.0|      41.770784809|     -87.697408286|POINT (-87.697408...|\n",
            "|22f28d54a73b125d9...|            NULL|10/19/2019 03:10:...|              30.0|           NO CONTROLS|         NO CONTROLS|            CLEAR|DARKNESS, LIGHTED...|PARKED MOTOR VEHICLE|         NOT DIVIDED|13.329757406439683|STRAIGHT AND LEVEL|                 DRY| NO DEFECTS|NOT ON SCENE (DES...|INJURY AND / OR T...|                  NULL|              NULL|         NULL|  OVER $1,500|10/19/2019 03:10:...|    UNABLE TO DETERMINE|        NOT APPLICABLE|   3121.0|               N|       PULASKI RD|            2523.0|          NULL|              NULL|     NULL|       NULL|          NULL|             NULL|      3.0|REPORTED, NOT EVI...|                1.0|                 0.0|                    0.0|                        0.0|                          1.0|                   0.0|             0.0|       3.0|              7.0|       10.0|      41.937929204|     -87.727003481|POINT (-87.727003...|\n",
            "|41a5808f37379c090...|            NULL|08/11/2024 06:05:...|              30.0|           NO CONTROLS|         NO CONTROLS|            CLEAR|DARKNESS, LIGHTED...|        FIXED OBJECT|         NOT DIVIDED|13.329757406439683|STRAIGHT AND LEVEL|                 DRY| NO DEFECTS|            ON SCENE|INJURY AND / OR T...|                  NULL|              NULL|         NULL|  OVER $1,500|08/11/2024 06:10:...|         NOT APPLICABLE|        NOT APPLICABLE|   3654.0|               N|    SPAULDING AVE|            1733.0|          NULL|              NULL|     NULL|       NULL|          NULL|             NULL|      1.0|REPORTED, NOT EVI...|                2.0|                 0.0|                    0.0|                        0.0|                          2.0|                   0.0|             0.0|       6.0|              1.0|        8.0|       41.94814049|     -87.710459366|POINT (-87.710459...|\n",
            "|143fafb0eeead5d32...|            NULL|09/05/2022 06:19:...|              30.0|           NO CONTROLS|         NO CONTROLS|            CLEAR|            DAYLIGHT|PARKED MOTOR VEHICLE|             ONE-WAY|13.329757406439683|STRAIGHT AND LEVEL|                 DRY| NO DEFECTS|            ON SCENE|INJURY AND / OR T...|                  NULL|              NULL|         NULL|  OVER $1,500|09/05/2022 06:19:...|   FAILING TO REDUCE...|   UNABLE TO DETERMINE|   3744.0|               N|     RIDGEWAY AVE|            1732.0|          NULL|              NULL|     NULL|       NULL|          NULL|             NULL|      3.0|NONINCAPACITATING...|                2.0|                 0.0|                    0.0|                        2.0|                          0.0|                   0.0|             0.0|       6.0|              2.0|        9.0|      41.949660896|     -87.721516831|POINT (-87.721516...|\n",
            "+--------------------+----------------+--------------------+------------------+----------------------+--------------------+-----------------+--------------------+--------------------+--------------------+------------------+------------------+--------------------+-----------+--------------------+--------------------+----------------------+------------------+-------------+-------------+--------------------+-----------------------+----------------------+---------+----------------+-----------------+------------------+--------------+------------------+---------+-----------+--------------+-----------------+---------+--------------------+-------------------+--------------------+-----------------------+---------------------------+-----------------------------+----------------------+----------------+----------+-----------------+-----------+------------------+------------------+--------------------+\n",
            "only showing top 20 rows\n",
            "\n"
          ]
        }
      ]
    },
    {
      "cell_type": "code",
      "source": [
        "from pyspark.sql.functions import col, when, count\n",
        "\n",
        "def replaceing_unknown_values_with_mode(df):\n",
        "    for column in df.columns:\n",
        "        # Calculate the most frequent value (mode) for the current column, excluding \"UNKNOWN\"\n",
        "        mode_value = (\n",
        "            df.filter(col(column) != \"UNKNOWN\")  # Exclude \"UNKNOWN\" from the calculation\n",
        "            .groupBy(column).count().orderBy(col(\"count\").desc()).first())\n",
        "\n",
        "        if mode_value:\n",
        "            mode_value = mode_value[0]  # Extract the most frequent value\n",
        "            # Replace \"UNKNOWN\" with the most frequent value\n",
        "            df = df.withColumn(column,when(col(column) == \"UNKNOWN\", mode_value).otherwise(col(column)))\n",
        "    return df\n",
        "\n",
        "df_updated = replaceing_unknown_values_with_mode(df_no_duplicates)\n",
        "df_updated.show()\n"
      ],
      "metadata": {
        "colab": {
          "base_uri": "https://localhost:8080/"
        },
        "id": "x-DhCqaGLcoc",
        "outputId": "fc894be9-1917-4c31-ee80-a07196000e1a"
      },
      "execution_count": 11,
      "outputs": [
        {
          "metadata": {
            "tags": null
          },
          "name": "stdout",
          "output_type": "stream",
          "text": [
            "+--------------------+----------------+--------------------+------------------+----------------------+--------------------+-----------------+--------------------+--------------------+--------------------+------------------+------------------+--------------------+-----------+--------------------+--------------------+----------------------+------------------+-------------+-------------+--------------------+-----------------------+----------------------+---------+----------------+-----------------+------------------+--------------+------------------+---------+-----------+--------------+-----------------+---------+--------------------+-------------------+--------------------+-----------------------+---------------------------+-----------------------------+----------------------+----------------+----------+-----------------+-----------+------------------+------------------+--------------------+\n",
            "|     CRASH_RECORD_ID|CRASH_DATE_EST_I|          CRASH_DATE|POSTED_SPEED_LIMIT|TRAFFIC_CONTROL_DEVICE|    DEVICE_CONDITION|WEATHER_CONDITION|  LIGHTING_CONDITION|    FIRST_CRASH_TYPE|     TRAFFICWAY_TYPE|          LANE_CNT|         ALIGNMENT|ROADWAY_SURFACE_COND|ROAD_DEFECT|         REPORT_TYPE|          CRASH_TYPE|INTERSECTION_RELATED_I|NOT_RIGHT_OF_WAY_I|HIT_AND_RUN_I|       DAMAGE|DATE_POLICE_NOTIFIED|PRIM_CONTRIBUTORY_CAUSE|SEC_CONTRIBUTORY_CAUSE|STREET_NO|STREET_DIRECTION|      STREET_NAME|BEAT_OF_OCCURRENCE|PHOTOS_TAKEN_I|STATEMENTS_TAKEN_I|DOORING_I|WORK_ZONE_I|WORK_ZONE_TYPE|WORKERS_PRESENT_I|NUM_UNITS|  MOST_SEVERE_INJURY|     INJURIES_TOTAL|      INJURIES_FATAL|INJURIES_INCAPACITATING|INJURIES_NON_INCAPACITATING|INJURIES_REPORTED_NOT_EVIDENT|INJURIES_NO_INDICATION|INJURIES_UNKNOWN|CRASH_HOUR|CRASH_DAY_OF_WEEK|CRASH_MONTH|          LATITUDE|         LONGITUDE|            LOCATION|\n",
            "+--------------------+----------------+--------------------+------------------+----------------------+--------------------+-----------------+--------------------+--------------------+--------------------+------------------+------------------+--------------------+-----------+--------------------+--------------------+----------------------+------------------+-------------+-------------+--------------------+-----------------------+----------------------+---------+----------------+-----------------+------------------+--------------+------------------+---------+-----------+--------------+-----------------+---------+--------------------+-------------------+--------------------+-----------------------+---------------------------+-----------------------------+----------------------+----------------+----------+-----------------+-----------+------------------+------------------+--------------------+\n",
            "|2cbbf3e2c933b745e...|               Y|10/06/2018 03:30:...|              30.0|           NO CONTROLS|         NO CONTROLS|            CLEAR|            DAYLIGHT|  OTHER NONCOLLISION|         NOT DIVIDED|               2.0|STRAIGHT AND LEVEL|                 DRY| NO DEFECTS|NOT ON SCENE (DES...|NO INJURY / DRIVE...|                  NULL|              NULL|         NULL|  OVER $1,500|10/07/2018 11:45:...|         NOT APPLICABLE|        NOT APPLICABLE|   5462.0|               N|       LAWLER AVE|            1621.0|          NULL|              NULL|     NULL|       NULL|          NULL|             NULL|      1.0|NO INDICATION OF ...|0.19333626654933803|0.001193095133337...|    0.01984492048889473|        0.10856251464227146|          0.06373573628483432|     2.001519939202432|             0.0|      15.0|              7.0|       10.0|      41.981463658|     -87.752479702|POINT (-87.752479...|\n",
            "|5d8c8fb0e256d5783...|               Y|02/05/2023 11:50:...|              10.0|           NO CONTROLS|         NO CONTROLS|            OTHER|            DAYLIGHT|            REAR END|               OTHER|13.329757406439683|STRAIGHT AND LEVEL|                 WET| NO DEFECTS|NOT ON SCENE (DES...|NO INJURY / DRIVE...|                  NULL|                 Y|         NULL|$501 - $1,500|02/05/2023 12:10:...|         NOT APPLICABLE|        NOT APPLICABLE|   7935.0|               S|    VINCENNES AVE|             623.0|          NULL|              NULL|     NULL|       NULL|          NULL|             NULL|      2.0|NO INDICATION OF ...|0.19333626654933803|0.001193095133337...|    0.01984492048889473|        0.10856251464227146|          0.06373573628483432|     2.001519939202432|             0.0|      11.0|              1.0|        2.0|      41.749717688|     -87.634343461|POINT (-87.634343...|\n",
            "|82f9fa9081236bdc3...|            NULL|09/03/2019 07:40:...|              30.0|        TRAFFIC SIGNAL|FUNCTIONING PROPERLY|             RAIN|                DAWN|             TURNING|DIVIDED - W/MEDIA...|13.329757406439683|STRAIGHT AND LEVEL|                 WET| NO DEFECTS|            ON SCENE|INJURY AND / OR T...|                     Y|              NULL|         NULL|  OVER $1,500|09/03/2019 07:48:...|    UNABLE TO DETERMINE|   UNABLE TO DETERMINE|    162.0|               N|BESSIE COLEMAN DR|            1654.0|          NULL|              NULL|     NULL|       NULL|          NULL|             NULL|      2.0|NONINCAPACITATING...|                2.0|                 0.0|                    0.0|                        2.0|                          0.0|                   0.0|             0.0|       7.0|              3.0|        9.0|41.855103482190124|-87.67365186231065|                NULL|\n",
            "|2cb8ea87d5ae15e5d...|               Y|06/26/2021 03:45:...|              20.0|        TRAFFIC SIGNAL|FUNCTIONING PROPERLY|             RAIN|            DAYLIGHT|             TURNING|            FOUR WAY|13.329757406439683|STRAIGHT AND LEVEL|                 WET| NO DEFECTS|            ON SCENE|INJURY AND / OR T...|                     Y|              NULL|         NULL|  OVER $1,500|06/26/2021 03:55:...|   FAILING TO YIELD ...|  FAILING TO YIELD ...|    200.0|               W|          87TH ST|             622.0|          NULL|              NULL|     NULL|       NULL|          NULL|             NULL|      2.0|INCAPACITATING IN...|                3.0|                 0.0|                    2.0|                        1.0|                          0.0|                   0.0|             0.0|      15.0|              7.0|        6.0|      41.736261699|     -87.629064716|POINT (-87.629064...|\n",
            "|2704410f25fc395a6...|            NULL|05/30/2023 05:38:...|              35.0|           NO CONTROLS|         NO CONTROLS|            CLEAR|                DAWN|        FIXED OBJECT|         NOT DIVIDED|13.329757406439683|STRAIGHT AND LEVEL|                 DRY| NO DEFECTS|            ON SCENE|INJURY AND / OR T...|                  NULL|              NULL|         NULL|  OVER $1,500|05/30/2023 05:38:...|    UNABLE TO DETERMINE|  PHYSICAL CONDITIO...|    314.0|               W|          47TH ST|             925.0|          NULL|              NULL|     NULL|       NULL|          NULL|             NULL|      1.0|NONINCAPACITATING...|                1.0|                 0.0|                    0.0|                        1.0|                          0.0|                   0.0|             0.0|       5.0|              3.0|        5.0|      41.809188224|     -87.634019837|POINT (-87.634019...|\n",
            "|28c14ed7ad61f047a...|            NULL|12/25/2022 07:46:...|              30.0|           NO CONTROLS|         NO CONTROLS|            CLEAR|            DAYLIGHT|        FIXED OBJECT|         NOT DIVIDED|13.329757406439683|STRAIGHT AND LEVEL|                 WET| NO DEFECTS|            ON SCENE|INJURY AND / OR T...|                  NULL|                 Y|         NULL|  OVER $1,500|12/25/2022 07:46:...|   FAILING TO REDUCE...|  DRIVING SKILLS/KN...|    326.0|               N|      CENTRAL AVE|            1512.0|          NULL|              NULL|     NULL|       NULL|          NULL|             NULL|      2.0|REPORTED, NOT EVI...|                1.0|                 0.0|                    0.0|                        0.0|                          1.0|                   0.0|             0.0|       7.0|              1.0|       12.0|      41.886554499|     -87.765234303|POINT (-87.765234...|\n",
            "|11855340ed6efafab...|            NULL|08/28/2021 10:30:...|              30.0|     STOP SIGN/FLASHER|FUNCTIONING PROPERLY|            CLEAR|            DAYLIGHT|             TURNING|            FOUR WAY|13.329757406439683|STRAIGHT AND LEVEL|                 DRY| NO DEFECTS|            ON SCENE|INJURY AND / OR T...|                     Y|              NULL|         NULL|  OVER $1,500|08/28/2021 10:31:...|    IMPROPER LANE USAGE|        NOT APPLICABLE|    602.0|               N|        HOMAN AVE|            1121.0|          NULL|              NULL|     NULL|       NULL|          NULL|             NULL|      3.0|REPORTED, NOT EVI...|                2.0|                 0.0|                    0.0|                        0.0|                          2.0|                   0.0|             0.0|      10.0|              7.0|        8.0|       41.89198916|     -87.711477316|POINT (-87.711477...|\n",
            "|33b4130ce466355a0...|            NULL|08/18/2018 08:18:...|              30.0|     STOP SIGN/FLASHER|FUNCTIONING PROPERLY|            CLEAR|            DAYLIGHT|               ANGLE|         NOT DIVIDED|               2.0|STRAIGHT AND LEVEL|                 DRY| NO DEFECTS|            ON SCENE|INJURY AND / OR T...|                     Y|              NULL|         NULL| $500 OR LESS|08/18/2018 08:40:...|    UNABLE TO DETERMINE|   UNABLE TO DETERMINE|    829.0|               W|        GRAND AVE|            1214.0|          NULL|              NULL|     NULL|       NULL|          NULL|             NULL|      2.0|NONINCAPACITATING...|                5.0|                 0.0|                    0.0|                        5.0|                          0.0|                   0.0|             0.0|      20.0|              7.0|        8.0|      41.891060041|     -87.648732537|POINT (-87.648732...|\n",
            "|3f24360e4fad20018...|            NULL|07/04/2017 01:18:...|              30.0|        TRAFFIC SIGNAL|FUNCTIONING PROPERLY|            CLEAR|            DAYLIGHT|               ANGLE|         NOT DIVIDED|               0.0|STRAIGHT AND LEVEL|                 DRY| NO DEFECTS|            ON SCENE|INJURY AND / OR T...|                     Y|              NULL|         NULL|  OVER $1,500|07/04/2017 01:18:...|   DISREGARDING TRAF...|  FAILING TO REDUCE...|   2001.0|               W|      HARRISON ST|            1225.0|          NULL|              NULL|     NULL|       NULL|          NULL|             NULL|      2.0|INCAPACITATING IN...|                2.0|                 0.0|                    2.0|                        0.0|                          0.0|                   0.0|             0.0|      13.0|              3.0|        7.0|      41.873931754|     -87.676511652|POINT (-87.676511...|\n",
            "|386075b396a277460...|            NULL|11/06/2021 04:57:...|              30.0|        TRAFFIC SIGNAL|FUNCTIONING PROPERLY|            CLEAR|            DAYLIGHT|        FIXED OBJECT|            FOUR WAY|13.329757406439683|STRAIGHT AND LEVEL|                 DRY| NO DEFECTS|            ON SCENE|INJURY AND / OR T...|                     Y|              NULL|         NULL|  OVER $1,500|11/06/2021 04:57:...|   DISREGARDING TRAF...|  DISREGARDING TRAF...|   2010.0|               W|          51ST ST|             931.0|          NULL|              NULL|     NULL|       NULL|          NULL|             NULL|      1.0|NONINCAPACITATING...|                1.0|                 0.0|                    0.0|                        1.0|                          0.0|                   0.0|             0.0|      16.0|              7.0|       11.0|      41.801337356|     -87.675025707|POINT (-87.675025...|\n",
            "|19dc8a6f6b8432179...|            NULL|05/14/2018 08:00:...|              25.0|           NO CONTROLS|         NO CONTROLS|             RAIN|            DAYLIGHT|PARKED MOTOR VEHICLE|         NOT DIVIDED|               2.0|STRAIGHT AND LEVEL|                 WET| NO DEFECTS|            ON SCENE|INJURY AND / OR T...|                  NULL|              NULL|         NULL|  OVER $1,500|05/14/2018 08:03:...|    UNABLE TO DETERMINE|   UNABLE TO DETERMINE|   2305.0|               W|        TOUHY AVE|            2411.0|          NULL|              NULL|     NULL|       NULL|          NULL|             NULL|      2.0|NONINCAPACITATING...|                1.0|                 0.0|                    0.0|                        1.0|                          0.0|                   0.0|             0.0|       8.0|              2.0|        5.0|      42.012150042|     -87.688205566|POINT (-87.688205...|\n",
            "|2a2c563c4b27901d4...|            NULL|07/09/2020 06:45:...|              30.0|           NO CONTROLS|         NO CONTROLS|            CLEAR|            DAYLIGHT|        PEDALCYCLIST|DIVIDED - W/MEDIA...|13.329757406439683|STRAIGHT AND LEVEL|                 DRY| NO DEFECTS|            ON SCENE|INJURY AND / OR T...|                  NULL|              NULL|         NULL| $500 OR LESS|07/09/2020 06:50:...|    UNABLE TO DETERMINE|        NOT APPLICABLE|   2406.0|               N|    MILWAUKEE AVE|            1414.0|          NULL|              NULL|        Y|       NULL|          NULL|             NULL|      2.0|NONINCAPACITATING...|                1.0|                 0.0|                    0.0|                        1.0|                          0.0|                   0.0|             0.0|       6.0|              5.0|        7.0|      41.924840687|     -87.700738063|POINT (-87.700738...|\n",
            "|3ccde79d5bc12f679...|               Y|10/14/2018 12:20:...|              30.0|           NO CONTROLS|         NO CONTROLS|            CLEAR|DARKNESS, LIGHTED...|        FIXED OBJECT|         NOT DIVIDED|               4.0|STRAIGHT AND LEVEL|                 DRY| NO DEFECTS|NOT ON SCENE (DES...|INJURY AND / OR T...|                  NULL|                 Y|         NULL|  OVER $1,500|10/14/2018 12:26:...|   EXCEEDING AUTHORI...|  FAILING TO REDUCE...|   2460.0|               S|       ARCHER AVE|             914.0|          NULL|              NULL|     NULL|       NULL|          NULL|             NULL|      1.0|NONINCAPACITATING...|                1.0|                 0.0|                    0.0|                        1.0|                          0.0|                   0.0|             0.0|       0.0|              1.0|       10.0|      41.848024985|     -87.645089474|POINT (-87.645089...|\n",
            "|196c4bc1d8cfe1b60...|            NULL|01/16/2020 03:30:...|              15.0|           NO CONTROLS|         NO CONTROLS|            CLEAR|            DAYLIGHT|               ANGLE|DIVIDED - W/MEDIA...|13.329757406439683|STRAIGHT AND LEVEL|                 DRY| NO DEFECTS|            ON SCENE|INJURY AND / OR T...|                  NULL|              NULL|         NULL|  OVER $1,500|01/16/2020 03:35:...|   DRIVING SKILLS/KN...|   UNABLE TO DETERMINE|   2541.0|               S|       WALLACE ST|             914.0|          NULL|              NULL|     NULL|       NULL|          NULL|             NULL|      2.0|NONINCAPACITATING...|                2.0|                 0.0|                    0.0|                        1.0|                          1.0|                   0.0|             0.0|      15.0|              5.0|        1.0|      41.845985206|     -87.641444054|POINT (-87.641444...|\n",
            "|3f05fc178eb6c1729...|            NULL|02/11/2020 11:45:...|              35.0|           NO CONTROLS|         NO CONTROLS|            CLEAR|DARKNESS, LIGHTED...|        FIXED OBJECT|DIVIDED - W/MEDIA...|13.329757406439683|STRAIGHT AND LEVEL|                 DRY| NO DEFECTS|            ON SCENE|INJURY AND / OR T...|                     N|              NULL|         NULL|  OVER $1,500|02/11/2020 11:59:...|   FAILING TO REDUCE...|  DISTRACTION - FRO...|   2629.0|               E|         130TH ST|             434.0|          NULL|              NULL|     NULL|       NULL|          NULL|             NULL|      1.0|NONINCAPACITATING...|                1.0|                 0.0|                    0.0|                        1.0|                          0.0|                   0.0|             0.0|      23.0|              3.0|        2.0|      41.659076075|     -87.559364801|POINT (-87.559364...|\n",
            "|0f75a3cdc3cce70eb...|            NULL|09/25/2021 03:18:...|              30.0|           NO CONTROLS|         NO CONTROLS|             RAIN|DARKNESS, LIGHTED...|PARKED MOTOR VEHICLE|             ONE-WAY|13.329757406439683|STRAIGHT AND LEVEL|                 WET| NO DEFECTS|            ON SCENE|INJURY AND / OR T...|                  NULL|                 Y|         NULL|  OVER $1,500|09/25/2021 03:20:...|   PHYSICAL CONDITIO...|   UNABLE TO DETERMINE|   2745.0|               W|      WARREN BLVD|            1222.0|          NULL|              NULL|     NULL|       NULL|          NULL|             NULL|      5.0|NONINCAPACITATING...|                1.0|                 0.0|                    0.0|                        1.0|                          0.0|                   0.0|             0.0|       3.0|              7.0|        9.0|      41.881888268|     -87.695674471|POINT (-87.695674...|\n",
            "|111ce27594bf89832...|            NULL|10/15/2023 07:50:...|              15.0|           NO CONTROLS|         NO CONTROLS|            CLEAR|            DARKNESS|          OVERTURNED|             ONE-WAY|13.329757406439683|      CURVE, LEVEL|                 DRY| NO DEFECTS|            ON SCENE|INJURY AND / OR T...|                  NULL|              NULL|         NULL|  OVER $1,500|10/15/2023 07:58:...|   OPERATING VEHICLE...|  FAILING TO REDUCE...|   2918.0|               W|          MANN DR|             831.0|          NULL|              NULL|     NULL|       NULL|          NULL|             NULL|      1.0|NONINCAPACITATING...|                6.0|                 0.0|                    0.0|                        6.0|                          0.0|                   0.0|             0.0|      19.0|              1.0|       10.0|      41.770784809|     -87.697408286|POINT (-87.697408...|\n",
            "|22f28d54a73b125d9...|            NULL|10/19/2019 03:10:...|              30.0|           NO CONTROLS|         NO CONTROLS|            CLEAR|DARKNESS, LIGHTED...|PARKED MOTOR VEHICLE|         NOT DIVIDED|13.329757406439683|STRAIGHT AND LEVEL|                 DRY| NO DEFECTS|NOT ON SCENE (DES...|INJURY AND / OR T...|                  NULL|              NULL|         NULL|  OVER $1,500|10/19/2019 03:10:...|    UNABLE TO DETERMINE|        NOT APPLICABLE|   3121.0|               N|       PULASKI RD|            2523.0|          NULL|              NULL|     NULL|       NULL|          NULL|             NULL|      3.0|REPORTED, NOT EVI...|                1.0|                 0.0|                    0.0|                        0.0|                          1.0|                   0.0|             0.0|       3.0|              7.0|       10.0|      41.937929204|     -87.727003481|POINT (-87.727003...|\n",
            "|41a5808f37379c090...|            NULL|08/11/2024 06:05:...|              30.0|           NO CONTROLS|         NO CONTROLS|            CLEAR|DARKNESS, LIGHTED...|        FIXED OBJECT|         NOT DIVIDED|13.329757406439683|STRAIGHT AND LEVEL|                 DRY| NO DEFECTS|            ON SCENE|INJURY AND / OR T...|                  NULL|              NULL|         NULL|  OVER $1,500|08/11/2024 06:10:...|         NOT APPLICABLE|        NOT APPLICABLE|   3654.0|               N|    SPAULDING AVE|            1733.0|          NULL|              NULL|     NULL|       NULL|          NULL|             NULL|      1.0|REPORTED, NOT EVI...|                2.0|                 0.0|                    0.0|                        0.0|                          2.0|                   0.0|             0.0|       6.0|              1.0|        8.0|       41.94814049|     -87.710459366|POINT (-87.710459...|\n",
            "|143fafb0eeead5d32...|            NULL|09/05/2022 06:19:...|              30.0|           NO CONTROLS|         NO CONTROLS|            CLEAR|            DAYLIGHT|PARKED MOTOR VEHICLE|             ONE-WAY|13.329757406439683|STRAIGHT AND LEVEL|                 DRY| NO DEFECTS|            ON SCENE|INJURY AND / OR T...|                  NULL|              NULL|         NULL|  OVER $1,500|09/05/2022 06:19:...|   FAILING TO REDUCE...|   UNABLE TO DETERMINE|   3744.0|               N|     RIDGEWAY AVE|            1732.0|          NULL|              NULL|     NULL|       NULL|          NULL|             NULL|      3.0|NONINCAPACITATING...|                2.0|                 0.0|                    0.0|                        2.0|                          0.0|                   0.0|             0.0|       6.0|              2.0|        9.0|      41.949660896|     -87.721516831|POINT (-87.721516...|\n",
            "+--------------------+----------------+--------------------+------------------+----------------------+--------------------+-----------------+--------------------+--------------------+--------------------+------------------+------------------+--------------------+-----------+--------------------+--------------------+----------------------+------------------+-------------+-------------+--------------------+-----------------------+----------------------+---------+----------------+-----------------+------------------+--------------+------------------+---------+-----------+--------------+-----------------+---------+--------------------+-------------------+--------------------+-----------------------+---------------------------+-----------------------------+----------------------+----------------+----------+-----------------+-----------+------------------+------------------+--------------------+\n",
            "only showing top 20 rows\n",
            "\n"
          ]
        }
      ]
    },
    {
      "cell_type": "code",
      "source": [
        "from pyspark.sql.functions import when, col\n",
        "\n",
        "# Replace values in the ROAD_DEFECT column\n",
        "df_updated = df_updated.withColumn(\n",
        "    \"ROAD_DEFECT\",\n",
        "    when(col(\"ROAD_DEFECT\") == \"NO DEFECTS\", \"NO DEFECTS\").otherwise(\"DEFECTS\")\n",
        ")\n"
      ],
      "metadata": {
        "id": "0PhJz2UnWyXY"
      },
      "execution_count": 12,
      "outputs": []
    },
    {
      "cell_type": "code",
      "source": [
        "df_updated.show()"
      ],
      "metadata": {
        "colab": {
          "base_uri": "https://localhost:8080/"
        },
        "id": "iyr7o1o6ORnN",
        "outputId": "34b528b2-0742-4fa1-88c3-a9fe0c198012"
      },
      "execution_count": 13,
      "outputs": [
        {
          "metadata": {
            "tags": null
          },
          "name": "stdout",
          "output_type": "stream",
          "text": [
            "+--------------------+----------------+--------------------+------------------+----------------------+--------------------+-----------------+--------------------+--------------------+--------------------+------------------+------------------+--------------------+-----------+--------------------+--------------------+----------------------+------------------+-------------+-------------+--------------------+-----------------------+----------------------+---------+----------------+-----------------+------------------+--------------+------------------+---------+-----------+--------------+-----------------+---------+--------------------+-------------------+--------------------+-----------------------+---------------------------+-----------------------------+----------------------+----------------+----------+-----------------+-----------+------------------+------------------+--------------------+\n",
            "|     CRASH_RECORD_ID|CRASH_DATE_EST_I|          CRASH_DATE|POSTED_SPEED_LIMIT|TRAFFIC_CONTROL_DEVICE|    DEVICE_CONDITION|WEATHER_CONDITION|  LIGHTING_CONDITION|    FIRST_CRASH_TYPE|     TRAFFICWAY_TYPE|          LANE_CNT|         ALIGNMENT|ROADWAY_SURFACE_COND|ROAD_DEFECT|         REPORT_TYPE|          CRASH_TYPE|INTERSECTION_RELATED_I|NOT_RIGHT_OF_WAY_I|HIT_AND_RUN_I|       DAMAGE|DATE_POLICE_NOTIFIED|PRIM_CONTRIBUTORY_CAUSE|SEC_CONTRIBUTORY_CAUSE|STREET_NO|STREET_DIRECTION|      STREET_NAME|BEAT_OF_OCCURRENCE|PHOTOS_TAKEN_I|STATEMENTS_TAKEN_I|DOORING_I|WORK_ZONE_I|WORK_ZONE_TYPE|WORKERS_PRESENT_I|NUM_UNITS|  MOST_SEVERE_INJURY|     INJURIES_TOTAL|      INJURIES_FATAL|INJURIES_INCAPACITATING|INJURIES_NON_INCAPACITATING|INJURIES_REPORTED_NOT_EVIDENT|INJURIES_NO_INDICATION|INJURIES_UNKNOWN|CRASH_HOUR|CRASH_DAY_OF_WEEK|CRASH_MONTH|          LATITUDE|         LONGITUDE|            LOCATION|\n",
            "+--------------------+----------------+--------------------+------------------+----------------------+--------------------+-----------------+--------------------+--------------------+--------------------+------------------+------------------+--------------------+-----------+--------------------+--------------------+----------------------+------------------+-------------+-------------+--------------------+-----------------------+----------------------+---------+----------------+-----------------+------------------+--------------+------------------+---------+-----------+--------------+-----------------+---------+--------------------+-------------------+--------------------+-----------------------+---------------------------+-----------------------------+----------------------+----------------+----------+-----------------+-----------+------------------+------------------+--------------------+\n",
            "|2cbbf3e2c933b745e...|               Y|10/06/2018 03:30:...|              30.0|           NO CONTROLS|         NO CONTROLS|            CLEAR|            DAYLIGHT|  OTHER NONCOLLISION|         NOT DIVIDED|               2.0|STRAIGHT AND LEVEL|                 DRY| NO DEFECTS|NOT ON SCENE (DES...|NO INJURY / DRIVE...|                  NULL|              NULL|         NULL|  OVER $1,500|10/07/2018 11:45:...|         NOT APPLICABLE|        NOT APPLICABLE|   5462.0|               N|       LAWLER AVE|            1621.0|          NULL|              NULL|     NULL|       NULL|          NULL|             NULL|      1.0|NO INDICATION OF ...|0.19333626654933803|0.001193095133337...|    0.01984492048889473|        0.10856251464227146|          0.06373573628483432|     2.001519939202432|             0.0|      15.0|              7.0|       10.0|      41.981463658|     -87.752479702|POINT (-87.752479...|\n",
            "|5d8c8fb0e256d5783...|               Y|02/05/2023 11:50:...|              10.0|           NO CONTROLS|         NO CONTROLS|            OTHER|            DAYLIGHT|            REAR END|               OTHER|13.329757406439683|STRAIGHT AND LEVEL|                 WET| NO DEFECTS|NOT ON SCENE (DES...|NO INJURY / DRIVE...|                  NULL|                 Y|         NULL|$501 - $1,500|02/05/2023 12:10:...|         NOT APPLICABLE|        NOT APPLICABLE|   7935.0|               S|    VINCENNES AVE|             623.0|          NULL|              NULL|     NULL|       NULL|          NULL|             NULL|      2.0|NO INDICATION OF ...|0.19333626654933803|0.001193095133337...|    0.01984492048889473|        0.10856251464227146|          0.06373573628483432|     2.001519939202432|             0.0|      11.0|              1.0|        2.0|      41.749717688|     -87.634343461|POINT (-87.634343...|\n",
            "|82f9fa9081236bdc3...|            NULL|09/03/2019 07:40:...|              30.0|        TRAFFIC SIGNAL|FUNCTIONING PROPERLY|             RAIN|                DAWN|             TURNING|DIVIDED - W/MEDIA...|13.329757406439683|STRAIGHT AND LEVEL|                 WET| NO DEFECTS|            ON SCENE|INJURY AND / OR T...|                     Y|              NULL|         NULL|  OVER $1,500|09/03/2019 07:48:...|    UNABLE TO DETERMINE|   UNABLE TO DETERMINE|    162.0|               N|BESSIE COLEMAN DR|            1654.0|          NULL|              NULL|     NULL|       NULL|          NULL|             NULL|      2.0|NONINCAPACITATING...|                2.0|                 0.0|                    0.0|                        2.0|                          0.0|                   0.0|             0.0|       7.0|              3.0|        9.0|41.855103482190124|-87.67365186231065|                NULL|\n",
            "|2cb8ea87d5ae15e5d...|               Y|06/26/2021 03:45:...|              20.0|        TRAFFIC SIGNAL|FUNCTIONING PROPERLY|             RAIN|            DAYLIGHT|             TURNING|            FOUR WAY|13.329757406439683|STRAIGHT AND LEVEL|                 WET| NO DEFECTS|            ON SCENE|INJURY AND / OR T...|                     Y|              NULL|         NULL|  OVER $1,500|06/26/2021 03:55:...|   FAILING TO YIELD ...|  FAILING TO YIELD ...|    200.0|               W|          87TH ST|             622.0|          NULL|              NULL|     NULL|       NULL|          NULL|             NULL|      2.0|INCAPACITATING IN...|                3.0|                 0.0|                    2.0|                        1.0|                          0.0|                   0.0|             0.0|      15.0|              7.0|        6.0|      41.736261699|     -87.629064716|POINT (-87.629064...|\n",
            "|2704410f25fc395a6...|            NULL|05/30/2023 05:38:...|              35.0|           NO CONTROLS|         NO CONTROLS|            CLEAR|                DAWN|        FIXED OBJECT|         NOT DIVIDED|13.329757406439683|STRAIGHT AND LEVEL|                 DRY| NO DEFECTS|            ON SCENE|INJURY AND / OR T...|                  NULL|              NULL|         NULL|  OVER $1,500|05/30/2023 05:38:...|    UNABLE TO DETERMINE|  PHYSICAL CONDITIO...|    314.0|               W|          47TH ST|             925.0|          NULL|              NULL|     NULL|       NULL|          NULL|             NULL|      1.0|NONINCAPACITATING...|                1.0|                 0.0|                    0.0|                        1.0|                          0.0|                   0.0|             0.0|       5.0|              3.0|        5.0|      41.809188224|     -87.634019837|POINT (-87.634019...|\n",
            "|28c14ed7ad61f047a...|            NULL|12/25/2022 07:46:...|              30.0|           NO CONTROLS|         NO CONTROLS|            CLEAR|            DAYLIGHT|        FIXED OBJECT|         NOT DIVIDED|13.329757406439683|STRAIGHT AND LEVEL|                 WET| NO DEFECTS|            ON SCENE|INJURY AND / OR T...|                  NULL|                 Y|         NULL|  OVER $1,500|12/25/2022 07:46:...|   FAILING TO REDUCE...|  DRIVING SKILLS/KN...|    326.0|               N|      CENTRAL AVE|            1512.0|          NULL|              NULL|     NULL|       NULL|          NULL|             NULL|      2.0|REPORTED, NOT EVI...|                1.0|                 0.0|                    0.0|                        0.0|                          1.0|                   0.0|             0.0|       7.0|              1.0|       12.0|      41.886554499|     -87.765234303|POINT (-87.765234...|\n",
            "|11855340ed6efafab...|            NULL|08/28/2021 10:30:...|              30.0|     STOP SIGN/FLASHER|FUNCTIONING PROPERLY|            CLEAR|            DAYLIGHT|             TURNING|            FOUR WAY|13.329757406439683|STRAIGHT AND LEVEL|                 DRY| NO DEFECTS|            ON SCENE|INJURY AND / OR T...|                     Y|              NULL|         NULL|  OVER $1,500|08/28/2021 10:31:...|    IMPROPER LANE USAGE|        NOT APPLICABLE|    602.0|               N|        HOMAN AVE|            1121.0|          NULL|              NULL|     NULL|       NULL|          NULL|             NULL|      3.0|REPORTED, NOT EVI...|                2.0|                 0.0|                    0.0|                        0.0|                          2.0|                   0.0|             0.0|      10.0|              7.0|        8.0|       41.89198916|     -87.711477316|POINT (-87.711477...|\n",
            "|33b4130ce466355a0...|            NULL|08/18/2018 08:18:...|              30.0|     STOP SIGN/FLASHER|FUNCTIONING PROPERLY|            CLEAR|            DAYLIGHT|               ANGLE|         NOT DIVIDED|               2.0|STRAIGHT AND LEVEL|                 DRY| NO DEFECTS|            ON SCENE|INJURY AND / OR T...|                     Y|              NULL|         NULL| $500 OR LESS|08/18/2018 08:40:...|    UNABLE TO DETERMINE|   UNABLE TO DETERMINE|    829.0|               W|        GRAND AVE|            1214.0|          NULL|              NULL|     NULL|       NULL|          NULL|             NULL|      2.0|NONINCAPACITATING...|                5.0|                 0.0|                    0.0|                        5.0|                          0.0|                   0.0|             0.0|      20.0|              7.0|        8.0|      41.891060041|     -87.648732537|POINT (-87.648732...|\n",
            "|3f24360e4fad20018...|            NULL|07/04/2017 01:18:...|              30.0|        TRAFFIC SIGNAL|FUNCTIONING PROPERLY|            CLEAR|            DAYLIGHT|               ANGLE|         NOT DIVIDED|               0.0|STRAIGHT AND LEVEL|                 DRY| NO DEFECTS|            ON SCENE|INJURY AND / OR T...|                     Y|              NULL|         NULL|  OVER $1,500|07/04/2017 01:18:...|   DISREGARDING TRAF...|  FAILING TO REDUCE...|   2001.0|               W|      HARRISON ST|            1225.0|          NULL|              NULL|     NULL|       NULL|          NULL|             NULL|      2.0|INCAPACITATING IN...|                2.0|                 0.0|                    2.0|                        0.0|                          0.0|                   0.0|             0.0|      13.0|              3.0|        7.0|      41.873931754|     -87.676511652|POINT (-87.676511...|\n",
            "|386075b396a277460...|            NULL|11/06/2021 04:57:...|              30.0|        TRAFFIC SIGNAL|FUNCTIONING PROPERLY|            CLEAR|            DAYLIGHT|        FIXED OBJECT|            FOUR WAY|13.329757406439683|STRAIGHT AND LEVEL|                 DRY| NO DEFECTS|            ON SCENE|INJURY AND / OR T...|                     Y|              NULL|         NULL|  OVER $1,500|11/06/2021 04:57:...|   DISREGARDING TRAF...|  DISREGARDING TRAF...|   2010.0|               W|          51ST ST|             931.0|          NULL|              NULL|     NULL|       NULL|          NULL|             NULL|      1.0|NONINCAPACITATING...|                1.0|                 0.0|                    0.0|                        1.0|                          0.0|                   0.0|             0.0|      16.0|              7.0|       11.0|      41.801337356|     -87.675025707|POINT (-87.675025...|\n",
            "|19dc8a6f6b8432179...|            NULL|05/14/2018 08:00:...|              25.0|           NO CONTROLS|         NO CONTROLS|             RAIN|            DAYLIGHT|PARKED MOTOR VEHICLE|         NOT DIVIDED|               2.0|STRAIGHT AND LEVEL|                 WET| NO DEFECTS|            ON SCENE|INJURY AND / OR T...|                  NULL|              NULL|         NULL|  OVER $1,500|05/14/2018 08:03:...|    UNABLE TO DETERMINE|   UNABLE TO DETERMINE|   2305.0|               W|        TOUHY AVE|            2411.0|          NULL|              NULL|     NULL|       NULL|          NULL|             NULL|      2.0|NONINCAPACITATING...|                1.0|                 0.0|                    0.0|                        1.0|                          0.0|                   0.0|             0.0|       8.0|              2.0|        5.0|      42.012150042|     -87.688205566|POINT (-87.688205...|\n",
            "|2a2c563c4b27901d4...|            NULL|07/09/2020 06:45:...|              30.0|           NO CONTROLS|         NO CONTROLS|            CLEAR|            DAYLIGHT|        PEDALCYCLIST|DIVIDED - W/MEDIA...|13.329757406439683|STRAIGHT AND LEVEL|                 DRY| NO DEFECTS|            ON SCENE|INJURY AND / OR T...|                  NULL|              NULL|         NULL| $500 OR LESS|07/09/2020 06:50:...|    UNABLE TO DETERMINE|        NOT APPLICABLE|   2406.0|               N|    MILWAUKEE AVE|            1414.0|          NULL|              NULL|        Y|       NULL|          NULL|             NULL|      2.0|NONINCAPACITATING...|                1.0|                 0.0|                    0.0|                        1.0|                          0.0|                   0.0|             0.0|       6.0|              5.0|        7.0|      41.924840687|     -87.700738063|POINT (-87.700738...|\n",
            "|3ccde79d5bc12f679...|               Y|10/14/2018 12:20:...|              30.0|           NO CONTROLS|         NO CONTROLS|            CLEAR|DARKNESS, LIGHTED...|        FIXED OBJECT|         NOT DIVIDED|               4.0|STRAIGHT AND LEVEL|                 DRY| NO DEFECTS|NOT ON SCENE (DES...|INJURY AND / OR T...|                  NULL|                 Y|         NULL|  OVER $1,500|10/14/2018 12:26:...|   EXCEEDING AUTHORI...|  FAILING TO REDUCE...|   2460.0|               S|       ARCHER AVE|             914.0|          NULL|              NULL|     NULL|       NULL|          NULL|             NULL|      1.0|NONINCAPACITATING...|                1.0|                 0.0|                    0.0|                        1.0|                          0.0|                   0.0|             0.0|       0.0|              1.0|       10.0|      41.848024985|     -87.645089474|POINT (-87.645089...|\n",
            "|196c4bc1d8cfe1b60...|            NULL|01/16/2020 03:30:...|              15.0|           NO CONTROLS|         NO CONTROLS|            CLEAR|            DAYLIGHT|               ANGLE|DIVIDED - W/MEDIA...|13.329757406439683|STRAIGHT AND LEVEL|                 DRY| NO DEFECTS|            ON SCENE|INJURY AND / OR T...|                  NULL|              NULL|         NULL|  OVER $1,500|01/16/2020 03:35:...|   DRIVING SKILLS/KN...|   UNABLE TO DETERMINE|   2541.0|               S|       WALLACE ST|             914.0|          NULL|              NULL|     NULL|       NULL|          NULL|             NULL|      2.0|NONINCAPACITATING...|                2.0|                 0.0|                    0.0|                        1.0|                          1.0|                   0.0|             0.0|      15.0|              5.0|        1.0|      41.845985206|     -87.641444054|POINT (-87.641444...|\n",
            "|3f05fc178eb6c1729...|            NULL|02/11/2020 11:45:...|              35.0|           NO CONTROLS|         NO CONTROLS|            CLEAR|DARKNESS, LIGHTED...|        FIXED OBJECT|DIVIDED - W/MEDIA...|13.329757406439683|STRAIGHT AND LEVEL|                 DRY| NO DEFECTS|            ON SCENE|INJURY AND / OR T...|                     N|              NULL|         NULL|  OVER $1,500|02/11/2020 11:59:...|   FAILING TO REDUCE...|  DISTRACTION - FRO...|   2629.0|               E|         130TH ST|             434.0|          NULL|              NULL|     NULL|       NULL|          NULL|             NULL|      1.0|NONINCAPACITATING...|                1.0|                 0.0|                    0.0|                        1.0|                          0.0|                   0.0|             0.0|      23.0|              3.0|        2.0|      41.659076075|     -87.559364801|POINT (-87.559364...|\n",
            "|0f75a3cdc3cce70eb...|            NULL|09/25/2021 03:18:...|              30.0|           NO CONTROLS|         NO CONTROLS|             RAIN|DARKNESS, LIGHTED...|PARKED MOTOR VEHICLE|             ONE-WAY|13.329757406439683|STRAIGHT AND LEVEL|                 WET| NO DEFECTS|            ON SCENE|INJURY AND / OR T...|                  NULL|                 Y|         NULL|  OVER $1,500|09/25/2021 03:20:...|   PHYSICAL CONDITIO...|   UNABLE TO DETERMINE|   2745.0|               W|      WARREN BLVD|            1222.0|          NULL|              NULL|     NULL|       NULL|          NULL|             NULL|      5.0|NONINCAPACITATING...|                1.0|                 0.0|                    0.0|                        1.0|                          0.0|                   0.0|             0.0|       3.0|              7.0|        9.0|      41.881888268|     -87.695674471|POINT (-87.695674...|\n",
            "|111ce27594bf89832...|            NULL|10/15/2023 07:50:...|              15.0|           NO CONTROLS|         NO CONTROLS|            CLEAR|            DARKNESS|          OVERTURNED|             ONE-WAY|13.329757406439683|      CURVE, LEVEL|                 DRY| NO DEFECTS|            ON SCENE|INJURY AND / OR T...|                  NULL|              NULL|         NULL|  OVER $1,500|10/15/2023 07:58:...|   OPERATING VEHICLE...|  FAILING TO REDUCE...|   2918.0|               W|          MANN DR|             831.0|          NULL|              NULL|     NULL|       NULL|          NULL|             NULL|      1.0|NONINCAPACITATING...|                6.0|                 0.0|                    0.0|                        6.0|                          0.0|                   0.0|             0.0|      19.0|              1.0|       10.0|      41.770784809|     -87.697408286|POINT (-87.697408...|\n",
            "|22f28d54a73b125d9...|            NULL|10/19/2019 03:10:...|              30.0|           NO CONTROLS|         NO CONTROLS|            CLEAR|DARKNESS, LIGHTED...|PARKED MOTOR VEHICLE|         NOT DIVIDED|13.329757406439683|STRAIGHT AND LEVEL|                 DRY| NO DEFECTS|NOT ON SCENE (DES...|INJURY AND / OR T...|                  NULL|              NULL|         NULL|  OVER $1,500|10/19/2019 03:10:...|    UNABLE TO DETERMINE|        NOT APPLICABLE|   3121.0|               N|       PULASKI RD|            2523.0|          NULL|              NULL|     NULL|       NULL|          NULL|             NULL|      3.0|REPORTED, NOT EVI...|                1.0|                 0.0|                    0.0|                        0.0|                          1.0|                   0.0|             0.0|       3.0|              7.0|       10.0|      41.937929204|     -87.727003481|POINT (-87.727003...|\n",
            "|41a5808f37379c090...|            NULL|08/11/2024 06:05:...|              30.0|           NO CONTROLS|         NO CONTROLS|            CLEAR|DARKNESS, LIGHTED...|        FIXED OBJECT|         NOT DIVIDED|13.329757406439683|STRAIGHT AND LEVEL|                 DRY| NO DEFECTS|            ON SCENE|INJURY AND / OR T...|                  NULL|              NULL|         NULL|  OVER $1,500|08/11/2024 06:10:...|         NOT APPLICABLE|        NOT APPLICABLE|   3654.0|               N|    SPAULDING AVE|            1733.0|          NULL|              NULL|     NULL|       NULL|          NULL|             NULL|      1.0|REPORTED, NOT EVI...|                2.0|                 0.0|                    0.0|                        0.0|                          2.0|                   0.0|             0.0|       6.0|              1.0|        8.0|       41.94814049|     -87.710459366|POINT (-87.710459...|\n",
            "|143fafb0eeead5d32...|            NULL|09/05/2022 06:19:...|              30.0|           NO CONTROLS|         NO CONTROLS|            CLEAR|            DAYLIGHT|PARKED MOTOR VEHICLE|             ONE-WAY|13.329757406439683|STRAIGHT AND LEVEL|                 DRY| NO DEFECTS|            ON SCENE|INJURY AND / OR T...|                  NULL|              NULL|         NULL|  OVER $1,500|09/05/2022 06:19:...|   FAILING TO REDUCE...|   UNABLE TO DETERMINE|   3744.0|               N|     RIDGEWAY AVE|            1732.0|          NULL|              NULL|     NULL|       NULL|          NULL|             NULL|      3.0|NONINCAPACITATING...|                2.0|                 0.0|                    0.0|                        2.0|                          0.0|                   0.0|             0.0|       6.0|              2.0|        9.0|      41.949660896|     -87.721516831|POINT (-87.721516...|\n",
            "+--------------------+----------------+--------------------+------------------+----------------------+--------------------+-----------------+--------------------+--------------------+--------------------+------------------+------------------+--------------------+-----------+--------------------+--------------------+----------------------+------------------+-------------+-------------+--------------------+-----------------------+----------------------+---------+----------------+-----------------+------------------+--------------+------------------+---------+-----------+--------------+-----------------+---------+--------------------+-------------------+--------------------+-----------------------+---------------------------+-----------------------------+----------------------+----------------+----------+-----------------+-----------+------------------+------------------+--------------------+\n",
            "only showing top 20 rows\n",
            "\n"
          ]
        }
      ]
    },
    {
      "cell_type": "code",
      "source": [
        "a=df_updated"
      ],
      "metadata": {
        "id": "4Tfm_hHqzL5Q"
      },
      "execution_count": 14,
      "outputs": []
    },
    {
      "cell_type": "code",
      "source": [
        "df_updated=a;"
      ],
      "metadata": {
        "id": "A4jUMVrFz0AS"
      },
      "execution_count": 17,
      "outputs": []
    },
    {
      "cell_type": "markdown",
      "source": [
        "**Encode Categorical Columns**"
      ],
      "metadata": {
        "id": "MRQELUrWcf-h"
      }
    },
    {
      "cell_type": "code",
      "source": [
        "from pyspark.ml.feature import StringIndexer\n",
        "from pyspark.sql import SparkSession\n",
        "\n",
        "# Initialize Spark sess\n",
        "\n",
        "# List of categorical columns to encode\n",
        "categorical_columns = [\n",
        "    \"TRAFFIC_CONTROL_DEVICE\",\n",
        "    \"DEVICE_CONDITION\",\n",
        "    \"WEATHER_CONDITION\",\n",
        "    \"LIGHTING_CONDITION\",\n",
        "    \"FIRST_CRASH_TYPE\",\n",
        "    \"TRAFFICWAY_TYPE\",\n",
        "    \"ROADWAY_SURFACE_COND\",\n",
        "    \"ROAD_DEFECT\",\n",
        "    \"CRASH_TYPE\",\n",
        "    \"DAMAGE\"\n",
        "]\n",
        "\n",
        "# Create a dictionary to store the encoders for each column\n",
        "indexers = {}\n",
        "\n",
        "# Loop through the categorical columns and apply StringIndexer\n",
        "for col_name in categorical_columns:\n",
        "    indexer = StringIndexer(inputCol=col_name, outputCol=f\"{col_name}_encoded\", handleInvalid=\"keep\")\n",
        "    indexers[col_name] = indexer\n",
        "    df_updated = indexer.fit(df_updated).transform(df_updated)\n",
        "\n",
        "\n"
      ],
      "metadata": {
        "id": "m0RBKuxvYAaY"
      },
      "execution_count": 19,
      "outputs": []
    },
    {
      "cell_type": "code",
      "source": [
        "from pyspark.sql.functions import when\n",
        "\n",
        "# Modify DAMAGE_encoded column\n",
        "df_updated = df_updated.withColumn(\n",
        "    \"DAMAGE_encoded\",\n",
        "    when(df_updated[\"DAMAGE_encoded\"].isin(0, 1), 0).otherwise(1)\n",
        ")"
      ],
      "metadata": {
        "id": "3CDRoj5yoLZE"
      },
      "execution_count": 20,
      "outputs": []
    },
    {
      "cell_type": "code",
      "source": [
        "df_updated.show()"
      ],
      "metadata": {
        "colab": {
          "base_uri": "https://localhost:8080/"
        },
        "id": "Ghv0yDv8ai1j",
        "outputId": "9f3c69db-144a-43af-8797-219453dacb96"
      },
      "execution_count": 21,
      "outputs": [
        {
          "output_type": "stream",
          "name": "stdout",
          "text": [
            "+--------------------+----------------+--------------------+------------------+----------------------+--------------------+-----------------+--------------------+--------------------+--------------------+------------------+------------------+--------------------+-----------+--------------------+--------------------+----------------------+------------------+-------------+-------------+--------------------+-----------------------+----------------------+---------+----------------+-----------------+------------------+--------------+------------------+---------+-----------+--------------+-----------------+---------+--------------------+-------------------+--------------------+-----------------------+---------------------------+-----------------------------+----------------------+----------------+----------+-----------------+-----------+------------------+------------------+--------------------+------------------------------+------------------------+-------------------------+--------------------------+------------------------+-----------------------+----------------------------+-------------------+------------------+--------------+\n",
            "|     CRASH_RECORD_ID|CRASH_DATE_EST_I|          CRASH_DATE|POSTED_SPEED_LIMIT|TRAFFIC_CONTROL_DEVICE|    DEVICE_CONDITION|WEATHER_CONDITION|  LIGHTING_CONDITION|    FIRST_CRASH_TYPE|     TRAFFICWAY_TYPE|          LANE_CNT|         ALIGNMENT|ROADWAY_SURFACE_COND|ROAD_DEFECT|         REPORT_TYPE|          CRASH_TYPE|INTERSECTION_RELATED_I|NOT_RIGHT_OF_WAY_I|HIT_AND_RUN_I|       DAMAGE|DATE_POLICE_NOTIFIED|PRIM_CONTRIBUTORY_CAUSE|SEC_CONTRIBUTORY_CAUSE|STREET_NO|STREET_DIRECTION|      STREET_NAME|BEAT_OF_OCCURRENCE|PHOTOS_TAKEN_I|STATEMENTS_TAKEN_I|DOORING_I|WORK_ZONE_I|WORK_ZONE_TYPE|WORKERS_PRESENT_I|NUM_UNITS|  MOST_SEVERE_INJURY|     INJURIES_TOTAL|      INJURIES_FATAL|INJURIES_INCAPACITATING|INJURIES_NON_INCAPACITATING|INJURIES_REPORTED_NOT_EVIDENT|INJURIES_NO_INDICATION|INJURIES_UNKNOWN|CRASH_HOUR|CRASH_DAY_OF_WEEK|CRASH_MONTH|          LATITUDE|         LONGITUDE|            LOCATION|TRAFFIC_CONTROL_DEVICE_encoded|DEVICE_CONDITION_encoded|WEATHER_CONDITION_encoded|LIGHTING_CONDITION_encoded|FIRST_CRASH_TYPE_encoded|TRAFFICWAY_TYPE_encoded|ROADWAY_SURFACE_COND_encoded|ROAD_DEFECT_encoded|CRASH_TYPE_encoded|DAMAGE_encoded|\n",
            "+--------------------+----------------+--------------------+------------------+----------------------+--------------------+-----------------+--------------------+--------------------+--------------------+------------------+------------------+--------------------+-----------+--------------------+--------------------+----------------------+------------------+-------------+-------------+--------------------+-----------------------+----------------------+---------+----------------+-----------------+------------------+--------------+------------------+---------+-----------+--------------+-----------------+---------+--------------------+-------------------+--------------------+-----------------------+---------------------------+-----------------------------+----------------------+----------------+----------+-----------------+-----------+------------------+------------------+--------------------+------------------------------+------------------------+-------------------------+--------------------------+------------------------+-----------------------+----------------------------+-------------------+------------------+--------------+\n",
            "|2cbbf3e2c933b745e...|               Y|10/06/2018 03:30:...|              30.0|           NO CONTROLS|         NO CONTROLS|            CLEAR|            DAYLIGHT|  OTHER NONCOLLISION|         NOT DIVIDED|               2.0|STRAIGHT AND LEVEL|                 DRY| NO DEFECTS|NOT ON SCENE (DES...|NO INJURY / DRIVE...|                  NULL|              NULL|         NULL|  OVER $1,500|10/07/2018 11:45:...|         NOT APPLICABLE|        NOT APPLICABLE|   5462.0|               N|       LAWLER AVE|            1621.0|          NULL|              NULL|     NULL|       NULL|          NULL|             NULL|      1.0|NO INDICATION OF ...|0.19333626654933803|0.001193095133337...|    0.01984492048889473|        0.10856251464227146|          0.06373573628483432|     2.001519939202432|             0.0|      15.0|              7.0|       10.0|      41.981463658|     -87.752479702|POINT (-87.752479...|                           0.0|                     0.0|                      0.0|                       0.0|                    13.0|                    0.0|                         0.0|                0.0|               0.0|             0|\n",
            "|5d8c8fb0e256d5783...|               Y|02/05/2023 11:50:...|              10.0|           NO CONTROLS|         NO CONTROLS|            OTHER|            DAYLIGHT|            REAR END|               OTHER|13.329757406439683|STRAIGHT AND LEVEL|                 WET| NO DEFECTS|NOT ON SCENE (DES...|NO INJURY / DRIVE...|                  NULL|                 Y|         NULL|$501 - $1,500|02/05/2023 12:10:...|         NOT APPLICABLE|        NOT APPLICABLE|   7935.0|               S|    VINCENNES AVE|             623.0|          NULL|              NULL|     NULL|       NULL|          NULL|             NULL|      2.0|NO INDICATION OF ...|0.19333626654933803|0.001193095133337...|    0.01984492048889473|        0.10856251464227146|          0.06373573628483432|     2.001519939202432|             0.0|      11.0|              1.0|        2.0|      41.749717688|     -87.634343461|POINT (-87.634343...|                           0.0|                     0.0|                      4.0|                       0.0|                     1.0|                    6.0|                         1.0|                0.0|               0.0|             0|\n",
            "|82f9fa9081236bdc3...|            NULL|09/03/2019 07:40:...|              30.0|        TRAFFIC SIGNAL|FUNCTIONING PROPERLY|             RAIN|                DAWN|             TURNING|DIVIDED - W/MEDIA...|13.329757406439683|STRAIGHT AND LEVEL|                 WET| NO DEFECTS|            ON SCENE|INJURY AND / OR T...|                     Y|              NULL|         NULL|  OVER $1,500|09/03/2019 07:48:...|    UNABLE TO DETERMINE|   UNABLE TO DETERMINE|    162.0|               N|BESSIE COLEMAN DR|            1654.0|          NULL|              NULL|     NULL|       NULL|          NULL|             NULL|      2.0|NONINCAPACITATING...|                2.0|                 0.0|                    0.0|                        2.0|                          0.0|                   0.0|             0.0|       7.0|              3.0|        9.0|41.855103482190124|-87.67365186231065|                NULL|                           1.0|                     1.0|                      1.0|                       4.0|                     3.0|                    5.0|                         1.0|                0.0|               1.0|             0|\n",
            "|2cb8ea87d5ae15e5d...|               Y|06/26/2021 03:45:...|              20.0|        TRAFFIC SIGNAL|FUNCTIONING PROPERLY|             RAIN|            DAYLIGHT|             TURNING|            FOUR WAY|13.329757406439683|STRAIGHT AND LEVEL|                 WET| NO DEFECTS|            ON SCENE|INJURY AND / OR T...|                     Y|              NULL|         NULL|  OVER $1,500|06/26/2021 03:55:...|   FAILING TO YIELD ...|  FAILING TO YIELD ...|    200.0|               W|          87TH ST|             622.0|          NULL|              NULL|     NULL|       NULL|          NULL|             NULL|      2.0|INCAPACITATING IN...|                3.0|                 0.0|                    2.0|                        1.0|                          0.0|                   0.0|             0.0|      15.0|              7.0|        6.0|      41.736261699|     -87.629064716|POINT (-87.629064...|                           1.0|                     1.0|                      1.0|                       0.0|                     3.0|                    4.0|                         1.0|                0.0|               1.0|             0|\n",
            "|2704410f25fc395a6...|            NULL|05/30/2023 05:38:...|              35.0|           NO CONTROLS|         NO CONTROLS|            CLEAR|                DAWN|        FIXED OBJECT|         NOT DIVIDED|13.329757406439683|STRAIGHT AND LEVEL|                 DRY| NO DEFECTS|            ON SCENE|INJURY AND / OR T...|                  NULL|              NULL|         NULL|  OVER $1,500|05/30/2023 05:38:...|    UNABLE TO DETERMINE|  PHYSICAL CONDITIO...|    314.0|               W|          47TH ST|             925.0|          NULL|              NULL|     NULL|       NULL|          NULL|             NULL|      1.0|NONINCAPACITATING...|                1.0|                 0.0|                    0.0|                        1.0|                          0.0|                   0.0|             0.0|       5.0|              3.0|        5.0|      41.809188224|     -87.634019837|POINT (-87.634019...|                           0.0|                     0.0|                      0.0|                       4.0|                     5.0|                    0.0|                         0.0|                0.0|               1.0|             0|\n",
            "|28c14ed7ad61f047a...|            NULL|12/25/2022 07:46:...|              30.0|           NO CONTROLS|         NO CONTROLS|            CLEAR|            DAYLIGHT|        FIXED OBJECT|         NOT DIVIDED|13.329757406439683|STRAIGHT AND LEVEL|                 WET| NO DEFECTS|            ON SCENE|INJURY AND / OR T...|                  NULL|                 Y|         NULL|  OVER $1,500|12/25/2022 07:46:...|   FAILING TO REDUCE...|  DRIVING SKILLS/KN...|    326.0|               N|      CENTRAL AVE|            1512.0|          NULL|              NULL|     NULL|       NULL|          NULL|             NULL|      2.0|REPORTED, NOT EVI...|                1.0|                 0.0|                    0.0|                        0.0|                          1.0|                   0.0|             0.0|       7.0|              1.0|       12.0|      41.886554499|     -87.765234303|POINT (-87.765234...|                           0.0|                     0.0|                      0.0|                       0.0|                     5.0|                    0.0|                         1.0|                0.0|               1.0|             0|\n",
            "|11855340ed6efafab...|            NULL|08/28/2021 10:30:...|              30.0|     STOP SIGN/FLASHER|FUNCTIONING PROPERLY|            CLEAR|            DAYLIGHT|             TURNING|            FOUR WAY|13.329757406439683|STRAIGHT AND LEVEL|                 DRY| NO DEFECTS|            ON SCENE|INJURY AND / OR T...|                     Y|              NULL|         NULL|  OVER $1,500|08/28/2021 10:31:...|    IMPROPER LANE USAGE|        NOT APPLICABLE|    602.0|               N|        HOMAN AVE|            1121.0|          NULL|              NULL|     NULL|       NULL|          NULL|             NULL|      3.0|REPORTED, NOT EVI...|                2.0|                 0.0|                    0.0|                        0.0|                          2.0|                   0.0|             0.0|      10.0|              7.0|        8.0|       41.89198916|     -87.711477316|POINT (-87.711477...|                           2.0|                     1.0|                      0.0|                       0.0|                     3.0|                    4.0|                         0.0|                0.0|               1.0|             0|\n",
            "|33b4130ce466355a0...|            NULL|08/18/2018 08:18:...|              30.0|     STOP SIGN/FLASHER|FUNCTIONING PROPERLY|            CLEAR|            DAYLIGHT|               ANGLE|         NOT DIVIDED|               2.0|STRAIGHT AND LEVEL|                 DRY| NO DEFECTS|            ON SCENE|INJURY AND / OR T...|                     Y|              NULL|         NULL| $500 OR LESS|08/18/2018 08:40:...|    UNABLE TO DETERMINE|   UNABLE TO DETERMINE|    829.0|               W|        GRAND AVE|            1214.0|          NULL|              NULL|     NULL|       NULL|          NULL|             NULL|      2.0|NONINCAPACITATING...|                5.0|                 0.0|                    0.0|                        5.0|                          0.0|                   0.0|             0.0|      20.0|              7.0|        8.0|      41.891060041|     -87.648732537|POINT (-87.648732...|                           2.0|                     1.0|                      0.0|                       0.0|                     4.0|                    0.0|                         0.0|                0.0|               1.0|             1|\n",
            "|3f24360e4fad20018...|            NULL|07/04/2017 01:18:...|              30.0|        TRAFFIC SIGNAL|FUNCTIONING PROPERLY|            CLEAR|            DAYLIGHT|               ANGLE|         NOT DIVIDED|               0.0|STRAIGHT AND LEVEL|                 DRY| NO DEFECTS|            ON SCENE|INJURY AND / OR T...|                     Y|              NULL|         NULL|  OVER $1,500|07/04/2017 01:18:...|   DISREGARDING TRAF...|  FAILING TO REDUCE...|   2001.0|               W|      HARRISON ST|            1225.0|          NULL|              NULL|     NULL|       NULL|          NULL|             NULL|      2.0|INCAPACITATING IN...|                2.0|                 0.0|                    2.0|                        0.0|                          0.0|                   0.0|             0.0|      13.0|              3.0|        7.0|      41.873931754|     -87.676511652|POINT (-87.676511...|                           1.0|                     1.0|                      0.0|                       0.0|                     4.0|                    0.0|                         0.0|                0.0|               1.0|             0|\n",
            "|386075b396a277460...|            NULL|11/06/2021 04:57:...|              30.0|        TRAFFIC SIGNAL|FUNCTIONING PROPERLY|            CLEAR|            DAYLIGHT|        FIXED OBJECT|            FOUR WAY|13.329757406439683|STRAIGHT AND LEVEL|                 DRY| NO DEFECTS|            ON SCENE|INJURY AND / OR T...|                     Y|              NULL|         NULL|  OVER $1,500|11/06/2021 04:57:...|   DISREGARDING TRAF...|  DISREGARDING TRAF...|   2010.0|               W|          51ST ST|             931.0|          NULL|              NULL|     NULL|       NULL|          NULL|             NULL|      1.0|NONINCAPACITATING...|                1.0|                 0.0|                    0.0|                        1.0|                          0.0|                   0.0|             0.0|      16.0|              7.0|       11.0|      41.801337356|     -87.675025707|POINT (-87.675025...|                           1.0|                     1.0|                      0.0|                       0.0|                     5.0|                    4.0|                         0.0|                0.0|               1.0|             0|\n",
            "|19dc8a6f6b8432179...|            NULL|05/14/2018 08:00:...|              25.0|           NO CONTROLS|         NO CONTROLS|             RAIN|            DAYLIGHT|PARKED MOTOR VEHICLE|         NOT DIVIDED|               2.0|STRAIGHT AND LEVEL|                 WET| NO DEFECTS|            ON SCENE|INJURY AND / OR T...|                  NULL|              NULL|         NULL|  OVER $1,500|05/14/2018 08:03:...|    UNABLE TO DETERMINE|   UNABLE TO DETERMINE|   2305.0|               W|        TOUHY AVE|            2411.0|          NULL|              NULL|     NULL|       NULL|          NULL|             NULL|      2.0|NONINCAPACITATING...|                1.0|                 0.0|                    0.0|                        1.0|                          0.0|                   0.0|             0.0|       8.0|              2.0|        5.0|      42.012150042|     -87.688205566|POINT (-87.688205...|                           0.0|                     0.0|                      1.0|                       0.0|                     0.0|                    0.0|                         1.0|                0.0|               1.0|             0|\n",
            "|2a2c563c4b27901d4...|            NULL|07/09/2020 06:45:...|              30.0|           NO CONTROLS|         NO CONTROLS|            CLEAR|            DAYLIGHT|        PEDALCYCLIST|DIVIDED - W/MEDIA...|13.329757406439683|STRAIGHT AND LEVEL|                 DRY| NO DEFECTS|            ON SCENE|INJURY AND / OR T...|                  NULL|              NULL|         NULL| $500 OR LESS|07/09/2020 06:50:...|    UNABLE TO DETERMINE|        NOT APPLICABLE|   2406.0|               N|    MILWAUKEE AVE|            1414.0|          NULL|              NULL|        Y|       NULL|          NULL|             NULL|      2.0|NONINCAPACITATING...|                1.0|                 0.0|                    0.0|                        1.0|                          0.0|                   0.0|             0.0|       6.0|              5.0|        7.0|      41.924840687|     -87.700738063|POINT (-87.700738...|                           0.0|                     0.0|                      0.0|                       0.0|                     7.0|                    1.0|                         0.0|                0.0|               1.0|             1|\n",
            "|3ccde79d5bc12f679...|               Y|10/14/2018 12:20:...|              30.0|           NO CONTROLS|         NO CONTROLS|            CLEAR|DARKNESS, LIGHTED...|        FIXED OBJECT|         NOT DIVIDED|               4.0|STRAIGHT AND LEVEL|                 DRY| NO DEFECTS|NOT ON SCENE (DES...|INJURY AND / OR T...|                  NULL|                 Y|         NULL|  OVER $1,500|10/14/2018 12:26:...|   EXCEEDING AUTHORI...|  FAILING TO REDUCE...|   2460.0|               S|       ARCHER AVE|             914.0|          NULL|              NULL|     NULL|       NULL|          NULL|             NULL|      1.0|NONINCAPACITATING...|                1.0|                 0.0|                    0.0|                        1.0|                          0.0|                   0.0|             0.0|       0.0|              1.0|       10.0|      41.848024985|     -87.645089474|POINT (-87.645089...|                           0.0|                     0.0|                      0.0|                       1.0|                     5.0|                    0.0|                         0.0|                0.0|               1.0|             0|\n",
            "|196c4bc1d8cfe1b60...|            NULL|01/16/2020 03:30:...|              15.0|           NO CONTROLS|         NO CONTROLS|            CLEAR|            DAYLIGHT|               ANGLE|DIVIDED - W/MEDIA...|13.329757406439683|STRAIGHT AND LEVEL|                 DRY| NO DEFECTS|            ON SCENE|INJURY AND / OR T...|                  NULL|              NULL|         NULL|  OVER $1,500|01/16/2020 03:35:...|   DRIVING SKILLS/KN...|   UNABLE TO DETERMINE|   2541.0|               S|       WALLACE ST|             914.0|          NULL|              NULL|     NULL|       NULL|          NULL|             NULL|      2.0|NONINCAPACITATING...|                2.0|                 0.0|                    0.0|                        1.0|                          1.0|                   0.0|             0.0|      15.0|              5.0|        1.0|      41.845985206|     -87.641444054|POINT (-87.641444...|                           0.0|                     0.0|                      0.0|                       0.0|                     4.0|                    1.0|                         0.0|                0.0|               1.0|             0|\n",
            "|3f05fc178eb6c1729...|            NULL|02/11/2020 11:45:...|              35.0|           NO CONTROLS|         NO CONTROLS|            CLEAR|DARKNESS, LIGHTED...|        FIXED OBJECT|DIVIDED - W/MEDIA...|13.329757406439683|STRAIGHT AND LEVEL|                 DRY| NO DEFECTS|            ON SCENE|INJURY AND / OR T...|                     N|              NULL|         NULL|  OVER $1,500|02/11/2020 11:59:...|   FAILING TO REDUCE...|  DISTRACTION - FRO...|   2629.0|               E|         130TH ST|             434.0|          NULL|              NULL|     NULL|       NULL|          NULL|             NULL|      1.0|NONINCAPACITATING...|                1.0|                 0.0|                    0.0|                        1.0|                          0.0|                   0.0|             0.0|      23.0|              3.0|        2.0|      41.659076075|     -87.559364801|POINT (-87.559364...|                           0.0|                     0.0|                      0.0|                       1.0|                     5.0|                    5.0|                         0.0|                0.0|               1.0|             0|\n",
            "|0f75a3cdc3cce70eb...|            NULL|09/25/2021 03:18:...|              30.0|           NO CONTROLS|         NO CONTROLS|             RAIN|DARKNESS, LIGHTED...|PARKED MOTOR VEHICLE|             ONE-WAY|13.329757406439683|STRAIGHT AND LEVEL|                 WET| NO DEFECTS|            ON SCENE|INJURY AND / OR T...|                  NULL|                 Y|         NULL|  OVER $1,500|09/25/2021 03:20:...|   PHYSICAL CONDITIO...|   UNABLE TO DETERMINE|   2745.0|               W|      WARREN BLVD|            1222.0|          NULL|              NULL|     NULL|       NULL|          NULL|             NULL|      5.0|NONINCAPACITATING...|                1.0|                 0.0|                    0.0|                        1.0|                          0.0|                   0.0|             0.0|       3.0|              7.0|        9.0|      41.881888268|     -87.695674471|POINT (-87.695674...|                           0.0|                     0.0|                      1.0|                       1.0|                     0.0|                    2.0|                         1.0|                0.0|               1.0|             0|\n",
            "|111ce27594bf89832...|            NULL|10/15/2023 07:50:...|              15.0|           NO CONTROLS|         NO CONTROLS|            CLEAR|            DARKNESS|          OVERTURNED|             ONE-WAY|13.329757406439683|      CURVE, LEVEL|                 DRY| NO DEFECTS|            ON SCENE|INJURY AND / OR T...|                  NULL|              NULL|         NULL|  OVER $1,500|10/15/2023 07:58:...|   OPERATING VEHICLE...|  FAILING TO REDUCE...|   2918.0|               W|          MANN DR|             831.0|          NULL|              NULL|     NULL|       NULL|          NULL|             NULL|      1.0|NONINCAPACITATING...|                6.0|                 0.0|                    0.0|                        6.0|                          0.0|                   0.0|             0.0|      19.0|              1.0|       10.0|      41.770784809|     -87.697408286|POINT (-87.697408...|                           0.0|                     0.0|                      0.0|                       2.0|                    16.0|                    2.0|                         0.0|                0.0|               1.0|             0|\n",
            "|22f28d54a73b125d9...|            NULL|10/19/2019 03:10:...|              30.0|           NO CONTROLS|         NO CONTROLS|            CLEAR|DARKNESS, LIGHTED...|PARKED MOTOR VEHICLE|         NOT DIVIDED|13.329757406439683|STRAIGHT AND LEVEL|                 DRY| NO DEFECTS|NOT ON SCENE (DES...|INJURY AND / OR T...|                  NULL|              NULL|         NULL|  OVER $1,500|10/19/2019 03:10:...|    UNABLE TO DETERMINE|        NOT APPLICABLE|   3121.0|               N|       PULASKI RD|            2523.0|          NULL|              NULL|     NULL|       NULL|          NULL|             NULL|      3.0|REPORTED, NOT EVI...|                1.0|                 0.0|                    0.0|                        0.0|                          1.0|                   0.0|             0.0|       3.0|              7.0|       10.0|      41.937929204|     -87.727003481|POINT (-87.727003...|                           0.0|                     0.0|                      0.0|                       1.0|                     0.0|                    0.0|                         0.0|                0.0|               1.0|             0|\n",
            "|41a5808f37379c090...|            NULL|08/11/2024 06:05:...|              30.0|           NO CONTROLS|         NO CONTROLS|            CLEAR|DARKNESS, LIGHTED...|        FIXED OBJECT|         NOT DIVIDED|13.329757406439683|STRAIGHT AND LEVEL|                 DRY| NO DEFECTS|            ON SCENE|INJURY AND / OR T...|                  NULL|              NULL|         NULL|  OVER $1,500|08/11/2024 06:10:...|         NOT APPLICABLE|        NOT APPLICABLE|   3654.0|               N|    SPAULDING AVE|            1733.0|          NULL|              NULL|     NULL|       NULL|          NULL|             NULL|      1.0|REPORTED, NOT EVI...|                2.0|                 0.0|                    0.0|                        0.0|                          2.0|                   0.0|             0.0|       6.0|              1.0|        8.0|       41.94814049|     -87.710459366|POINT (-87.710459...|                           0.0|                     0.0|                      0.0|                       1.0|                     5.0|                    0.0|                         0.0|                0.0|               1.0|             0|\n",
            "|143fafb0eeead5d32...|            NULL|09/05/2022 06:19:...|              30.0|           NO CONTROLS|         NO CONTROLS|            CLEAR|            DAYLIGHT|PARKED MOTOR VEHICLE|             ONE-WAY|13.329757406439683|STRAIGHT AND LEVEL|                 DRY| NO DEFECTS|            ON SCENE|INJURY AND / OR T...|                  NULL|              NULL|         NULL|  OVER $1,500|09/05/2022 06:19:...|   FAILING TO REDUCE...|   UNABLE TO DETERMINE|   3744.0|               N|     RIDGEWAY AVE|            1732.0|          NULL|              NULL|     NULL|       NULL|          NULL|             NULL|      3.0|NONINCAPACITATING...|                2.0|                 0.0|                    0.0|                        2.0|                          0.0|                   0.0|             0.0|       6.0|              2.0|        9.0|      41.949660896|     -87.721516831|POINT (-87.721516...|                           0.0|                     0.0|                      0.0|                       0.0|                     0.0|                    2.0|                         0.0|                0.0|               1.0|             0|\n",
            "+--------------------+----------------+--------------------+------------------+----------------------+--------------------+-----------------+--------------------+--------------------+--------------------+------------------+------------------+--------------------+-----------+--------------------+--------------------+----------------------+------------------+-------------+-------------+--------------------+-----------------------+----------------------+---------+----------------+-----------------+------------------+--------------+------------------+---------+-----------+--------------+-----------------+---------+--------------------+-------------------+--------------------+-----------------------+---------------------------+-----------------------------+----------------------+----------------+----------+-----------------+-----------+------------------+------------------+--------------------+------------------------------+------------------------+-------------------------+--------------------------+------------------------+-----------------------+----------------------------+-------------------+------------------+--------------+\n",
            "only showing top 20 rows\n",
            "\n"
          ]
        }
      ]
    },
    {
      "cell_type": "code",
      "source": [
        "output_file = \"df_updated\"  # Replace with your desired file path\n",
        "df_updated.coalesce(1).write.csv(output_file, header=True, mode=\"overwrite\")\n"
      ],
      "metadata": {
        "id": "csoKqQM-Um1Z"
      },
      "execution_count": 22,
      "outputs": []
    },
    {
      "cell_type": "markdown",
      "source": [
        "**Removing Unwanted Columns**"
      ],
      "metadata": {
        "id": "gR5zMM6Nd5Vo"
      }
    },
    {
      "cell_type": "code",
      "source": [
        "columns_to_remove = ['CRASH_RECORD_ID', 'CRASH_DATE_EST_I','TRAFFIC_CONTROL_DEVICE','ALIGNMENT','REPORT_TYPE','INTERSECTION_RELATED_I','NOT_RIGHT_OF_WAY_I','HIT_AND_RUN_I','DATE_POLICE_NOTIFIED','PRIM_CONTRIBUTORY_CAUSE','SEC_CONTRIBUTORY_CAUSE','STREET_DIRECTION','REPORT_TYPE',\n",
        "                     'BEAT_OF_OCCURRENCE','PHOTOS_TAKEN_I','STATEMENTS_TAKEN_I','DOORING_I','WORK_ZONE_I','WORK_ZONE_TYPE','WORKERS_PRESENT_I','MOST_SEVERE_INJURY','LOCATION','DEVICE_CONDITION','WEATHER_CONDITION' ,'LIGHTING_CONDITION' ,'FIRST_CRASH_TYPE','TRAFFICWAY_TYPE','ROADWAY_SURFACE_COND','ROAD_DEFECT','CRASH_TYPE','LATITUDE','LONGITUDE','STREET_NO','STREET_NAME',\n",
        "                     'CRASH_DATE','DAMAGE']\n",
        "\n",
        "# Drop the selected columns\n",
        "df_updated = df_updated.drop(*columns_to_remove)\n",
        "df_updated.show()"
      ],
      "metadata": {
        "colab": {
          "base_uri": "https://localhost:8080/"
        },
        "id": "41kl3vv1cmRn",
        "outputId": "35be7978-7bda-4bae-fbf3-51adc0e967c3"
      },
      "execution_count": 23,
      "outputs": [
        {
          "output_type": "stream",
          "name": "stdout",
          "text": [
            "+------------------+------------------+---------+-------------------+--------------------+-----------------------+---------------------------+-----------------------------+----------------------+----------------+----------+-----------------+-----------+------------------------------+------------------------+-------------------------+--------------------------+------------------------+-----------------------+----------------------------+-------------------+------------------+--------------+\n",
            "|POSTED_SPEED_LIMIT|          LANE_CNT|NUM_UNITS|     INJURIES_TOTAL|      INJURIES_FATAL|INJURIES_INCAPACITATING|INJURIES_NON_INCAPACITATING|INJURIES_REPORTED_NOT_EVIDENT|INJURIES_NO_INDICATION|INJURIES_UNKNOWN|CRASH_HOUR|CRASH_DAY_OF_WEEK|CRASH_MONTH|TRAFFIC_CONTROL_DEVICE_encoded|DEVICE_CONDITION_encoded|WEATHER_CONDITION_encoded|LIGHTING_CONDITION_encoded|FIRST_CRASH_TYPE_encoded|TRAFFICWAY_TYPE_encoded|ROADWAY_SURFACE_COND_encoded|ROAD_DEFECT_encoded|CRASH_TYPE_encoded|DAMAGE_encoded|\n",
            "+------------------+------------------+---------+-------------------+--------------------+-----------------------+---------------------------+-----------------------------+----------------------+----------------+----------+-----------------+-----------+------------------------------+------------------------+-------------------------+--------------------------+------------------------+-----------------------+----------------------------+-------------------+------------------+--------------+\n",
            "|              30.0|               2.0|      1.0|0.19333626654933803|0.001193095133337...|    0.01984492048889473|        0.10856251464227146|          0.06373573628483432|     2.001519939202432|             0.0|      15.0|              7.0|       10.0|                           0.0|                     0.0|                      0.0|                       0.0|                    13.0|                    0.0|                         0.0|                0.0|               0.0|             0|\n",
            "|              10.0|13.329757406439683|      2.0|0.19333626654933803|0.001193095133337...|    0.01984492048889473|        0.10856251464227146|          0.06373573628483432|     2.001519939202432|             0.0|      11.0|              1.0|        2.0|                           0.0|                     0.0|                      4.0|                       0.0|                     1.0|                    6.0|                         1.0|                0.0|               0.0|             0|\n",
            "|              30.0|13.329757406439683|      2.0|                2.0|                 0.0|                    0.0|                        2.0|                          0.0|                   0.0|             0.0|       7.0|              3.0|        9.0|                           1.0|                     1.0|                      1.0|                       4.0|                     3.0|                    5.0|                         1.0|                0.0|               1.0|             0|\n",
            "|              20.0|13.329757406439683|      2.0|                3.0|                 0.0|                    2.0|                        1.0|                          0.0|                   0.0|             0.0|      15.0|              7.0|        6.0|                           1.0|                     1.0|                      1.0|                       0.0|                     3.0|                    4.0|                         1.0|                0.0|               1.0|             0|\n",
            "|              35.0|13.329757406439683|      1.0|                1.0|                 0.0|                    0.0|                        1.0|                          0.0|                   0.0|             0.0|       5.0|              3.0|        5.0|                           0.0|                     0.0|                      0.0|                       4.0|                     5.0|                    0.0|                         0.0|                0.0|               1.0|             0|\n",
            "|              30.0|13.329757406439683|      2.0|                1.0|                 0.0|                    0.0|                        0.0|                          1.0|                   0.0|             0.0|       7.0|              1.0|       12.0|                           0.0|                     0.0|                      0.0|                       0.0|                     5.0|                    0.0|                         1.0|                0.0|               1.0|             0|\n",
            "|              30.0|13.329757406439683|      3.0|                2.0|                 0.0|                    0.0|                        0.0|                          2.0|                   0.0|             0.0|      10.0|              7.0|        8.0|                           2.0|                     1.0|                      0.0|                       0.0|                     3.0|                    4.0|                         0.0|                0.0|               1.0|             0|\n",
            "|              30.0|               2.0|      2.0|                5.0|                 0.0|                    0.0|                        5.0|                          0.0|                   0.0|             0.0|      20.0|              7.0|        8.0|                           2.0|                     1.0|                      0.0|                       0.0|                     4.0|                    0.0|                         0.0|                0.0|               1.0|             1|\n",
            "|              30.0|               0.0|      2.0|                2.0|                 0.0|                    2.0|                        0.0|                          0.0|                   0.0|             0.0|      13.0|              3.0|        7.0|                           1.0|                     1.0|                      0.0|                       0.0|                     4.0|                    0.0|                         0.0|                0.0|               1.0|             0|\n",
            "|              30.0|13.329757406439683|      1.0|                1.0|                 0.0|                    0.0|                        1.0|                          0.0|                   0.0|             0.0|      16.0|              7.0|       11.0|                           1.0|                     1.0|                      0.0|                       0.0|                     5.0|                    4.0|                         0.0|                0.0|               1.0|             0|\n",
            "|              25.0|               2.0|      2.0|                1.0|                 0.0|                    0.0|                        1.0|                          0.0|                   0.0|             0.0|       8.0|              2.0|        5.0|                           0.0|                     0.0|                      1.0|                       0.0|                     0.0|                    0.0|                         1.0|                0.0|               1.0|             0|\n",
            "|              30.0|13.329757406439683|      2.0|                1.0|                 0.0|                    0.0|                        1.0|                          0.0|                   0.0|             0.0|       6.0|              5.0|        7.0|                           0.0|                     0.0|                      0.0|                       0.0|                     7.0|                    1.0|                         0.0|                0.0|               1.0|             1|\n",
            "|              30.0|               4.0|      1.0|                1.0|                 0.0|                    0.0|                        1.0|                          0.0|                   0.0|             0.0|       0.0|              1.0|       10.0|                           0.0|                     0.0|                      0.0|                       1.0|                     5.0|                    0.0|                         0.0|                0.0|               1.0|             0|\n",
            "|              15.0|13.329757406439683|      2.0|                2.0|                 0.0|                    0.0|                        1.0|                          1.0|                   0.0|             0.0|      15.0|              5.0|        1.0|                           0.0|                     0.0|                      0.0|                       0.0|                     4.0|                    1.0|                         0.0|                0.0|               1.0|             0|\n",
            "|              35.0|13.329757406439683|      1.0|                1.0|                 0.0|                    0.0|                        1.0|                          0.0|                   0.0|             0.0|      23.0|              3.0|        2.0|                           0.0|                     0.0|                      0.0|                       1.0|                     5.0|                    5.0|                         0.0|                0.0|               1.0|             0|\n",
            "|              30.0|13.329757406439683|      5.0|                1.0|                 0.0|                    0.0|                        1.0|                          0.0|                   0.0|             0.0|       3.0|              7.0|        9.0|                           0.0|                     0.0|                      1.0|                       1.0|                     0.0|                    2.0|                         1.0|                0.0|               1.0|             0|\n",
            "|              15.0|13.329757406439683|      1.0|                6.0|                 0.0|                    0.0|                        6.0|                          0.0|                   0.0|             0.0|      19.0|              1.0|       10.0|                           0.0|                     0.0|                      0.0|                       2.0|                    16.0|                    2.0|                         0.0|                0.0|               1.0|             0|\n",
            "|              30.0|13.329757406439683|      3.0|                1.0|                 0.0|                    0.0|                        0.0|                          1.0|                   0.0|             0.0|       3.0|              7.0|       10.0|                           0.0|                     0.0|                      0.0|                       1.0|                     0.0|                    0.0|                         0.0|                0.0|               1.0|             0|\n",
            "|              30.0|13.329757406439683|      1.0|                2.0|                 0.0|                    0.0|                        0.0|                          2.0|                   0.0|             0.0|       6.0|              1.0|        8.0|                           0.0|                     0.0|                      0.0|                       1.0|                     5.0|                    0.0|                         0.0|                0.0|               1.0|             0|\n",
            "|              30.0|13.329757406439683|      3.0|                2.0|                 0.0|                    0.0|                        2.0|                          0.0|                   0.0|             0.0|       6.0|              2.0|        9.0|                           0.0|                     0.0|                      0.0|                       0.0|                     0.0|                    2.0|                         0.0|                0.0|               1.0|             0|\n",
            "+------------------+------------------+---------+-------------------+--------------------+-----------------------+---------------------------+-----------------------------+----------------------+----------------+----------+-----------------+-----------+------------------------------+------------------------+-------------------------+--------------------------+------------------------+-----------------------+----------------------------+-------------------+------------------+--------------+\n",
            "only showing top 20 rows\n",
            "\n"
          ]
        }
      ]
    },
    {
      "cell_type": "markdown",
      "source": [
        "**Outlier Detection and Removal**"
      ],
      "metadata": {
        "id": "HrIIYGPFWAtl"
      }
    },
    {
      "cell_type": "code",
      "source": [
        "numeric_cols={'POSTED_SPEED_LIMIT','TRAFFIC_CONTROL_DEVICE_encoded','WEATHER_CONDITION_encoded','LIGHTING_CONDITION_encoded', 'FIRST_CRASH_TYPE_encoded','LANE_CNT','ROADWAY_SURFACE_COND_encoded','CRASH_TYPE_encoded','NUM_UNITS','INJURIES_TOTAL','INJURIES_FATAL','INJURIES_INCAPACITATING','INJURIES_NON_INCAPACITATING','INJURIES_REPORTED_NOT_EVIDENT','INJURIES_NO_INDICATION','INJURIES_UNKNOWN','ROAD_DEFECT_encoded','DEVICE_CONDITION_encoded'}\n",
        "\n",
        "def remove_outliers(df, col_name):\n",
        "    quantiles = df.approxQuantile(col_name, [0.25, 0.75], 0.01)\n",
        "    Q1, Q3 = quantiles[0], quantiles[1]\n",
        "    IQR = Q3 - Q1\n",
        "    lower_bound = Q1 - 1.5 * IQR\n",
        "    upper_bound = Q3 + 1.5 * IQR\n",
        "    return df.filter((col(col_name) >= lower_bound) & (col(col_name) <= upper_bound))\n",
        "\n",
        "for col_name in numeric_cols:\n",
        "    df_cleaned = remove_outliers(df_updated, col_name)\n"
      ],
      "metadata": {
        "id": "S4S-AdjXJHTE"
      },
      "execution_count": 24,
      "outputs": []
    },
    {
      "cell_type": "code",
      "source": [
        "num_rows = df_cleaned.count()\n",
        "num_cols = len(df_cleaned.columns)\n",
        "print({num_rows}, {num_cols})"
      ],
      "metadata": {
        "colab": {
          "base_uri": "https://localhost:8080/"
        },
        "id": "GOHGVRlmUieN",
        "outputId": "e003e5d4-c30f-4416-f1de-35ba2efdd632"
      },
      "execution_count": 25,
      "outputs": [
        {
          "output_type": "stream",
          "name": "stdout",
          "text": [
            "{739533} {23}\n"
          ]
        }
      ]
    },
    {
      "cell_type": "code",
      "source": [
        "df_cleaned.select([count(when(col(c).isNull(), c)).alias(c) for c in df_cleaned.columns]).show()"
      ],
      "metadata": {
        "colab": {
          "base_uri": "https://localhost:8080/"
        },
        "id": "1OecW_nMQ5qT",
        "outputId": "27c6d295-5196-4983-c1f2-30752f6b9877"
      },
      "execution_count": 26,
      "outputs": [
        {
          "output_type": "stream",
          "name": "stdout",
          "text": [
            "+------------------+--------+---------+--------------+--------------+-----------------------+---------------------------+-----------------------------+----------------------+----------------+----------+-----------------+-----------+------------------------------+------------------------+-------------------------+--------------------------+------------------------+-----------------------+----------------------------+-------------------+------------------+--------------+\n",
            "|POSTED_SPEED_LIMIT|LANE_CNT|NUM_UNITS|INJURIES_TOTAL|INJURIES_FATAL|INJURIES_INCAPACITATING|INJURIES_NON_INCAPACITATING|INJURIES_REPORTED_NOT_EVIDENT|INJURIES_NO_INDICATION|INJURIES_UNKNOWN|CRASH_HOUR|CRASH_DAY_OF_WEEK|CRASH_MONTH|TRAFFIC_CONTROL_DEVICE_encoded|DEVICE_CONDITION_encoded|WEATHER_CONDITION_encoded|LIGHTING_CONDITION_encoded|FIRST_CRASH_TYPE_encoded|TRAFFICWAY_TYPE_encoded|ROADWAY_SURFACE_COND_encoded|ROAD_DEFECT_encoded|CRASH_TYPE_encoded|DAMAGE_encoded|\n",
            "+------------------+--------+---------+--------------+--------------+-----------------------+---------------------------+-----------------------------+----------------------+----------------+----------+-----------------+-----------+------------------------------+------------------------+-------------------------+--------------------------+------------------------+-----------------------+----------------------------+-------------------+------------------+--------------+\n",
            "|                 0|       0|        0|             0|             0|                      0|                          0|                            0|                     0|               0|         0|                0|          0|                             0|                       0|                        0|                         0|                       0|                      0|                           0|                  0|                 0|             0|\n",
            "+------------------+--------+---------+--------------+--------------+-----------------------+---------------------------+-----------------------------+----------------------+----------------+----------+-----------------+-----------+------------------------------+------------------------+-------------------------+--------------------------+------------------------+-----------------------+----------------------------+-------------------+------------------+--------------+\n",
            "\n"
          ]
        }
      ]
    },
    {
      "cell_type": "code",
      "source": [
        "# Remove rows where LANE_CNT is NULL\n",
        "df_cleaned = df_cleaned.na.drop(subset=[\"LANE_CNT\"])\n",
        "\n",
        "# Display the result to confirm\n",
        "df_cleaned.groupBy(\"LANE_CNT\").count().orderBy(\"count\", ascending=False).show()\n"
      ],
      "metadata": {
        "colab": {
          "base_uri": "https://localhost:8080/"
        },
        "id": "E91b-kHcSqTW",
        "outputId": "bd3e6806-ff8e-4cd8-eeab-87357a1954a4"
      },
      "execution_count": 27,
      "outputs": [
        {
          "output_type": "stream",
          "name": "stdout",
          "text": [
            "+------------------+------+\n",
            "|          LANE_CNT| count|\n",
            "+------------------+------+\n",
            "|13.329757406439683|574791|\n",
            "|               2.0| 75458|\n",
            "|               4.0| 40493|\n",
            "|               1.0| 27451|\n",
            "|               3.0|  7183|\n",
            "|               0.0|  6837|\n",
            "|               6.0|  3710|\n",
            "|               5.0|  1579|\n",
            "|               8.0|  1494|\n",
            "|               7.0|   148|\n",
            "|              10.0|   123|\n",
            "|              99.0|    99|\n",
            "|               9.0|    55|\n",
            "|              11.0|    24|\n",
            "|              12.0|    20|\n",
            "|              20.0|    14|\n",
            "|              22.0|     9|\n",
            "|              15.0|     6|\n",
            "|              16.0|     6|\n",
            "|              40.0|     4|\n",
            "+------------------+------+\n",
            "only showing top 20 rows\n",
            "\n"
          ]
        }
      ]
    },
    {
      "cell_type": "code",
      "source": [
        "# Get the number of rows\n",
        "num_rows = df_cleaned.count()\n",
        "\n",
        "# Get the number of columns\n",
        "num_cols = len(df_cleaned.columns)\n",
        "\n",
        "# Print the shape\n",
        "print(f\"Shape of the DataFrame: ({num_rows}, {num_cols})\")\n"
      ],
      "metadata": {
        "colab": {
          "base_uri": "https://localhost:8080/"
        },
        "id": "MpcnIrsGSyJ5",
        "outputId": "1f25e30a-08b9-40e0-b2dd-37cb313fa8b1"
      },
      "execution_count": 28,
      "outputs": [
        {
          "output_type": "stream",
          "name": "stdout",
          "text": [
            "Shape of the DataFrame: (739533, 23)\n"
          ]
        }
      ]
    },
    {
      "cell_type": "code",
      "source": [
        "df_cleaned.select([count(when(col(c).isNull(), c)).alias(c) for c in df_cleaned.columns]).show()"
      ],
      "metadata": {
        "colab": {
          "base_uri": "https://localhost:8080/"
        },
        "id": "9AVX2D3wTQW2",
        "outputId": "5971e74a-23d5-450c-dafc-ad263c6eb8cf"
      },
      "execution_count": 29,
      "outputs": [
        {
          "output_type": "stream",
          "name": "stdout",
          "text": [
            "+------------------+--------+---------+--------------+--------------+-----------------------+---------------------------+-----------------------------+----------------------+----------------+----------+-----------------+-----------+------------------------------+------------------------+-------------------------+--------------------------+------------------------+-----------------------+----------------------------+-------------------+------------------+--------------+\n",
            "|POSTED_SPEED_LIMIT|LANE_CNT|NUM_UNITS|INJURIES_TOTAL|INJURIES_FATAL|INJURIES_INCAPACITATING|INJURIES_NON_INCAPACITATING|INJURIES_REPORTED_NOT_EVIDENT|INJURIES_NO_INDICATION|INJURIES_UNKNOWN|CRASH_HOUR|CRASH_DAY_OF_WEEK|CRASH_MONTH|TRAFFIC_CONTROL_DEVICE_encoded|DEVICE_CONDITION_encoded|WEATHER_CONDITION_encoded|LIGHTING_CONDITION_encoded|FIRST_CRASH_TYPE_encoded|TRAFFICWAY_TYPE_encoded|ROADWAY_SURFACE_COND_encoded|ROAD_DEFECT_encoded|CRASH_TYPE_encoded|DAMAGE_encoded|\n",
            "+------------------+--------+---------+--------------+--------------+-----------------------+---------------------------+-----------------------------+----------------------+----------------+----------+-----------------+-----------+------------------------------+------------------------+-------------------------+--------------------------+------------------------+-----------------------+----------------------------+-------------------+------------------+--------------+\n",
            "|                 0|       0|        0|             0|             0|                      0|                          0|                            0|                     0|               0|         0|                0|          0|                             0|                       0|                        0|                         0|                       0|                      0|                           0|                  0|                 0|             0|\n",
            "+------------------+--------+---------+--------------+--------------+-----------------------+---------------------------+-----------------------------+----------------------+----------------+----------+-----------------+-----------+------------------------------+------------------------+-------------------------+--------------------------+------------------------+-----------------------+----------------------------+-------------------+------------------+--------------+\n",
            "\n"
          ]
        }
      ]
    },
    {
      "cell_type": "code",
      "source": [
        "output_file = \"df_cleaned\"  # Replace with your desired file path\n",
        "df_cleaned.coalesce(1).write.csv(output_file, header=True, mode=\"overwrite\")\n"
      ],
      "metadata": {
        "id": "aT5e3mu0d-V8"
      },
      "execution_count": 30,
      "outputs": []
    },
    {
      "cell_type": "code",
      "source": [
        "df_cleaned.groupBy(\"INJURIES_TOTAL\").count().orderBy(\"count\", ascending=False).show()"
      ],
      "metadata": {
        "colab": {
          "base_uri": "https://localhost:8080/"
        },
        "id": "ITm8pEhjfSQx",
        "outputId": "67ffe11d-233f-4c2b-8f95-ea19a9a69fea"
      },
      "execution_count": 31,
      "outputs": [
        {
          "output_type": "stream",
          "name": "stdout",
          "text": [
            "+-------------------+------+\n",
            "|     INJURIES_TOTAL| count|\n",
            "+-------------------+------+\n",
            "|                0.0|637042|\n",
            "|                1.0| 75873|\n",
            "|                2.0| 16919|\n",
            "|                3.0|  5157|\n",
            "|                4.0|  1862|\n",
            "|0.19333626654933803|  1528|\n",
            "|                5.0|   659|\n",
            "|                6.0|   272|\n",
            "|                7.0|   109|\n",
            "|                8.0|    48|\n",
            "|                9.0|    26|\n",
            "|               10.0|    11|\n",
            "|               11.0|     7|\n",
            "|               15.0|     5|\n",
            "|               12.0|     5|\n",
            "|               21.0|     3|\n",
            "|               13.0|     3|\n",
            "|               16.0|     1|\n",
            "|               17.0|     1|\n",
            "|               14.0|     1|\n",
            "+-------------------+------+\n",
            "only showing top 20 rows\n",
            "\n"
          ]
        }
      ]
    },
    {
      "cell_type": "markdown",
      "source": [
        "**Standardization of Numerical Columns**"
      ],
      "metadata": {
        "id": "k9MOMUlQ4kZl"
      }
    },
    {
      "cell_type": "code",
      "source": [
        "from pyspark.ml.feature import StandardScaler, VectorAssembler\n",
        "from pyspark.sql.functions import col\n",
        "\n",
        "# Define the numerical columns to scale\n",
        "numerical_columns = [\n",
        "    \"POSTED_SPEED_LIMIT\",\n",
        "    \"LANE_CNT\",\n",
        "    \"NUM_UNITS\",\n",
        "    \"INJURIES_TOTAL\"\n",
        "]\n",
        "\n",
        "# Assemble numerical columns into a single feature vector\n",
        "assembler = VectorAssembler(inputCols=numerical_columns, outputCol=\"features\")\n",
        "assembled_df = assembler.transform(df_cleaned)\n",
        "\n",
        "# Apply StandardScaler for normalization\n",
        "scaler = StandardScaler(inputCol=\"features\", outputCol=\"scaled_features\", withStd=True, withMean=True)\n",
        "scaler_model = scaler.fit(assembled_df)\n",
        "scaled_df = scaler_model.transform(assembled_df)\n",
        "\n",
        "# Keep both 'features' and 'scaled_features' columns in df_cleaned, and drop only the original numerical columns\n",
        "df_cleaned = scaled_df.drop(*numerical_columns)\n",
        "\n",
        "# Show the result\n",
        "df_cleaned.show(truncate=False)\n"
      ],
      "metadata": {
        "colab": {
          "base_uri": "https://localhost:8080/"
        },
        "id": "shZnEje9xOfC",
        "outputId": "8c90020d-48d8-4c8a-d1f6-336c4d280f72"
      },
      "execution_count": 33,
      "outputs": [
        {
          "output_type": "stream",
          "name": "stdout",
          "text": [
            "+---------------------+-----------------------+---------------------------+-----------------------------+----------------------+----------------+----------+-----------------+-----------+------------------------------+------------------------+-------------------------+--------------------------+------------------------+-----------------------+----------------------------+-------------------+------------------+--------------+----------------------------------+------------------------------------------------------------------------------------+\n",
            "|INJURIES_FATAL       |INJURIES_INCAPACITATING|INJURIES_NON_INCAPACITATING|INJURIES_REPORTED_NOT_EVIDENT|INJURIES_NO_INDICATION|INJURIES_UNKNOWN|CRASH_HOUR|CRASH_DAY_OF_WEEK|CRASH_MONTH|TRAFFIC_CONTROL_DEVICE_encoded|DEVICE_CONDITION_encoded|WEATHER_CONDITION_encoded|LIGHTING_CONDITION_encoded|FIRST_CRASH_TYPE_encoded|TRAFFICWAY_TYPE_encoded|ROADWAY_SURFACE_COND_encoded|ROAD_DEFECT_encoded|CRASH_TYPE_encoded|DAMAGE_encoded|features                          |scaled_features                                                                     |\n",
            "+---------------------+-----------------------+---------------------------+-----------------------------+----------------------+----------------+----------+-----------------+-----------+------------------------------+------------------------+-------------------------+--------------------------+------------------------+-----------------------+----------------------------+-------------------+------------------+--------------+----------------------------------+------------------------------------------------------------------------------------+\n",
            "|0.0011930951333375237|0.01984492048889473    |0.10856251464227146        |0.06373573628483432          |2.001519939202432     |0.0             |15.0      |7.0              |10.0       |0.0                           |0.0                     |0.0                      |0.0                       |13.0                    |0.0                    |0.0                         |0.0                |0.0               |0             |[30.0,2.0,1.0,0.19333626654933803]|[0.26669222995287917,-0.007697924452743641,-2.3355665241017065,0.007776537686847141]|\n",
            "|0.0                  |0.0                    |1.0                        |0.0                          |0.0                   |0.0             |5.0       |3.0              |5.0        |0.0                           |0.0                     |0.0                      |4.0                       |5.0                     |0.0                    |0.0                         |0.0                |1.0               |0             |[35.0,13.329757406439683,1.0,1.0] |[1.0774820506822502,-3.233359386721386E-4,-2.3355665241017065,1.4329503958958487]   |\n",
            "|0.0                  |0.0                    |0.0                        |1.0                          |0.0                   |0.0             |7.0       |1.0              |12.0       |0.0                           |0.0                     |0.0                      |0.0                       |5.0                     |0.0                    |1.0                         |0.0                |1.0               |0             |[30.0,13.329757406439683,2.0,1.0] |[0.26669222995287917,-3.233359386721386E-4,-0.0815611785373972,1.4329503958958487]  |\n",
            "|0.0                  |0.0                    |0.0                        |2.0                          |0.0                   |0.0             |10.0      |7.0              |8.0        |2.0                           |1.0                     |0.0                      |0.0                       |3.0                     |4.0                    |0.0                         |0.0                |1.0               |0             |[30.0,13.329757406439683,3.0,2.0] |[0.26669222995287917,-3.233359386721386E-4,2.1724441670269123,3.199701272512728]    |\n",
            "|0.0                  |0.0                    |5.0                        |0.0                          |0.0                   |0.0             |20.0      |7.0              |8.0        |2.0                           |1.0                     |0.0                      |0.0                       |4.0                     |0.0                    |0.0                         |0.0                |1.0               |1             |[30.0,2.0,2.0,5.0]                |[0.26669222995287917,-0.007697924452743641,-0.0815611785373972,8.499953902363364]   |\n",
            "|0.0                  |2.0                    |0.0                        |0.0                          |0.0                   |0.0             |13.0      |3.0              |7.0        |1.0                           |1.0                     |0.0                      |0.0                       |4.0                     |0.0                    |0.0                         |0.0                |1.0               |0             |[30.0,0.0,2.0,2.0]                |[0.26669222995287917,-0.00899973317635848,-0.0815611785373972,3.199701272512728]    |\n",
            "|0.0                  |0.0                    |1.0                        |0.0                          |0.0                   |0.0             |16.0      |7.0              |11.0       |1.0                           |1.0                     |0.0                      |0.0                       |5.0                     |4.0                    |0.0                         |0.0                |1.0               |0             |[30.0,13.329757406439683,1.0,1.0] |[0.26669222995287917,-3.233359386721386E-4,-2.3355665241017065,1.4329503958958487]  |\n",
            "|0.0                  |0.0                    |1.0                        |0.0                          |0.0                   |0.0             |6.0       |5.0              |7.0        |0.0                           |0.0                     |0.0                      |0.0                       |7.0                     |1.0                    |0.0                         |0.0                |1.0               |1             |[30.0,13.329757406439683,2.0,1.0] |[0.26669222995287917,-3.233359386721386E-4,-0.0815611785373972,1.4329503958958487]  |\n",
            "|0.0                  |0.0                    |1.0                        |0.0                          |0.0                   |0.0             |0.0       |1.0              |10.0       |0.0                           |0.0                     |0.0                      |1.0                       |5.0                     |0.0                    |0.0                         |0.0                |1.0               |0             |[30.0,4.0,1.0,1.0]                |[0.26669222995287917,-0.0063961157291288024,-2.3355665241017065,1.4329503958958487] |\n",
            "|0.0                  |0.0                    |1.0                        |1.0                          |0.0                   |0.0             |15.0      |5.0              |1.0        |0.0                           |0.0                     |0.0                      |0.0                       |4.0                     |1.0                    |0.0                         |0.0                |1.0               |0             |[15.0,13.329757406439683,2.0,2.0] |[-2.165677232235234,-3.233359386721386E-4,-0.0815611785373972,3.199701272512728]    |\n",
            "|0.0                  |0.0                    |1.0                        |0.0                          |0.0                   |0.0             |23.0      |3.0              |2.0        |0.0                           |0.0                     |0.0                      |1.0                       |5.0                     |5.0                    |0.0                         |0.0                |1.0               |0             |[35.0,13.329757406439683,1.0,1.0] |[1.0774820506822502,-3.233359386721386E-4,-2.3355665241017065,1.4329503958958487]   |\n",
            "|0.0                  |0.0                    |6.0                        |0.0                          |0.0                   |0.0             |19.0      |1.0              |10.0       |0.0                           |0.0                     |0.0                      |2.0                       |16.0                    |2.0                    |0.0                         |0.0                |1.0               |0             |[15.0,13.329757406439683,1.0,6.0] |[-2.165677232235234,-3.233359386721386E-4,-2.3355665241017065,10.266704778980245]   |\n",
            "|0.0                  |0.0                    |0.0                        |1.0                          |0.0                   |0.0             |3.0       |7.0              |10.0       |0.0                           |0.0                     |0.0                      |1.0                       |0.0                     |0.0                    |0.0                         |0.0                |1.0               |0             |[30.0,13.329757406439683,3.0,1.0] |[0.26669222995287917,-3.233359386721386E-4,2.1724441670269123,1.4329503958958487]   |\n",
            "|0.0                  |0.0                    |0.0                        |2.0                          |0.0                   |0.0             |6.0       |1.0              |8.0        |0.0                           |0.0                     |0.0                      |1.0                       |5.0                     |0.0                    |0.0                         |0.0                |1.0               |0             |[30.0,13.329757406439683,1.0,2.0] |[0.26669222995287917,-3.233359386721386E-4,-2.3355665241017065,3.199701272512728]   |\n",
            "|0.0                  |0.0                    |2.0                        |0.0                          |0.0                   |0.0             |6.0       |2.0              |9.0        |0.0                           |0.0                     |0.0                      |0.0                       |0.0                     |2.0                    |0.0                         |0.0                |1.0               |0             |[30.0,13.329757406439683,3.0,2.0] |[0.26669222995287917,-3.233359386721386E-4,2.1724441670269123,3.199701272512728]    |\n",
            "|0.0                  |0.0                    |1.0                        |0.0                          |0.0                   |0.0             |21.0      |2.0              |9.0        |2.0                           |1.0                     |0.0                      |1.0                       |5.0                     |2.0                    |0.0                         |1.0                |1.0               |0             |[25.0,13.329757406439683,1.0,1.0] |[-0.5440975907764918,-3.233359386721386E-4,-2.3355665241017065,1.4329503958958487]  |\n",
            "|0.0                  |0.0                    |1.0                        |0.0                          |0.0                   |0.0             |11.0      |3.0              |6.0        |0.0                           |0.0                     |0.0                      |0.0                       |0.0                     |5.0                    |0.0                         |0.0                |1.0               |0             |[30.0,13.329757406439683,2.0,1.0] |[0.26669222995287917,-3.233359386721386E-4,-0.0815611785373972,1.4329503958958487]  |\n",
            "|0.0                  |0.0                    |1.0                        |0.0                          |0.0                   |0.0             |14.0      |1.0              |7.0        |0.0                           |0.0                     |0.0                      |0.0                       |0.0                     |1.0                    |0.0                         |0.0                |1.0               |0             |[35.0,2.0,4.0,1.0]                |[1.0774820506822502,-0.007697924452743641,4.426449512591222,1.4329503958958487]     |\n",
            "|0.0                  |0.0                    |1.0                        |0.0                          |0.0                   |0.0             |5.0       |1.0              |4.0        |1.0                           |1.0                     |0.0                      |1.0                       |5.0                     |5.0                    |1.0                         |0.0                |1.0               |0             |[30.0,13.329757406439683,1.0,1.0] |[0.26669222995287917,-3.233359386721386E-4,-2.3355665241017065,1.4329503958958487]  |\n",
            "|0.0                  |0.0                    |2.0                        |0.0                          |0.0                   |0.0             |10.0      |6.0              |10.0       |2.0                           |1.0                     |0.0                      |0.0                       |4.0                     |0.0                    |0.0                         |0.0                |1.0               |0             |[30.0,13.329757406439683,2.0,2.0] |[0.26669222995287917,-3.233359386721386E-4,-0.0815611785373972,3.199701272512728]   |\n",
            "+---------------------+-----------------------+---------------------------+-----------------------------+----------------------+----------------+----------+-----------------+-----------+------------------------------+------------------------+-------------------------+--------------------------+------------------------+-----------------------+----------------------------+-------------------+------------------+--------------+----------------------------------+------------------------------------------------------------------------------------+\n",
            "only showing top 20 rows\n",
            "\n"
          ]
        }
      ]
    },
    {
      "cell_type": "code",
      "source": [
        "df_cleaned.show()"
      ],
      "metadata": {
        "colab": {
          "base_uri": "https://localhost:8080/"
        },
        "id": "7sx3I1bIeHrO",
        "outputId": "4f560781-bb90-4c62-ffa5-d17c5f149baf"
      },
      "execution_count": 34,
      "outputs": [
        {
          "output_type": "stream",
          "name": "stdout",
          "text": [
            "+--------------------+-----------------------+---------------------------+-----------------------------+----------------------+----------------+----------+-----------------+-----------+------------------------------+------------------------+-------------------------+--------------------------+------------------------+-----------------------+----------------------------+-------------------+------------------+--------------+--------------------+--------------------+\n",
            "|      INJURIES_FATAL|INJURIES_INCAPACITATING|INJURIES_NON_INCAPACITATING|INJURIES_REPORTED_NOT_EVIDENT|INJURIES_NO_INDICATION|INJURIES_UNKNOWN|CRASH_HOUR|CRASH_DAY_OF_WEEK|CRASH_MONTH|TRAFFIC_CONTROL_DEVICE_encoded|DEVICE_CONDITION_encoded|WEATHER_CONDITION_encoded|LIGHTING_CONDITION_encoded|FIRST_CRASH_TYPE_encoded|TRAFFICWAY_TYPE_encoded|ROADWAY_SURFACE_COND_encoded|ROAD_DEFECT_encoded|CRASH_TYPE_encoded|DAMAGE_encoded|            features|     scaled_features|\n",
            "+--------------------+-----------------------+---------------------------+-----------------------------+----------------------+----------------+----------+-----------------+-----------+------------------------------+------------------------+-------------------------+--------------------------+------------------------+-----------------------+----------------------------+-------------------+------------------+--------------+--------------------+--------------------+\n",
            "|0.001193095133337...|    0.01984492048889473|        0.10856251464227146|          0.06373573628483432|     2.001519939202432|             0.0|      15.0|              7.0|       10.0|                           0.0|                     0.0|                      0.0|                       0.0|                    13.0|                    0.0|                         0.0|                0.0|               0.0|             0|[30.0,2.0,1.0,0.1...|[0.26669222995287...|\n",
            "|                 0.0|                    0.0|                        1.0|                          0.0|                   0.0|             0.0|       5.0|              3.0|        5.0|                           0.0|                     0.0|                      0.0|                       4.0|                     5.0|                    0.0|                         0.0|                0.0|               1.0|             0|[35.0,13.32975740...|[1.07748205068225...|\n",
            "|                 0.0|                    0.0|                        0.0|                          1.0|                   0.0|             0.0|       7.0|              1.0|       12.0|                           0.0|                     0.0|                      0.0|                       0.0|                     5.0|                    0.0|                         1.0|                0.0|               1.0|             0|[30.0,13.32975740...|[0.26669222995287...|\n",
            "|                 0.0|                    0.0|                        0.0|                          2.0|                   0.0|             0.0|      10.0|              7.0|        8.0|                           2.0|                     1.0|                      0.0|                       0.0|                     3.0|                    4.0|                         0.0|                0.0|               1.0|             0|[30.0,13.32975740...|[0.26669222995287...|\n",
            "|                 0.0|                    0.0|                        5.0|                          0.0|                   0.0|             0.0|      20.0|              7.0|        8.0|                           2.0|                     1.0|                      0.0|                       0.0|                     4.0|                    0.0|                         0.0|                0.0|               1.0|             1|  [30.0,2.0,2.0,5.0]|[0.26669222995287...|\n",
            "|                 0.0|                    2.0|                        0.0|                          0.0|                   0.0|             0.0|      13.0|              3.0|        7.0|                           1.0|                     1.0|                      0.0|                       0.0|                     4.0|                    0.0|                         0.0|                0.0|               1.0|             0|  [30.0,0.0,2.0,2.0]|[0.26669222995287...|\n",
            "|                 0.0|                    0.0|                        1.0|                          0.0|                   0.0|             0.0|      16.0|              7.0|       11.0|                           1.0|                     1.0|                      0.0|                       0.0|                     5.0|                    4.0|                         0.0|                0.0|               1.0|             0|[30.0,13.32975740...|[0.26669222995287...|\n",
            "|                 0.0|                    0.0|                        1.0|                          0.0|                   0.0|             0.0|       6.0|              5.0|        7.0|                           0.0|                     0.0|                      0.0|                       0.0|                     7.0|                    1.0|                         0.0|                0.0|               1.0|             1|[30.0,13.32975740...|[0.26669222995287...|\n",
            "|                 0.0|                    0.0|                        1.0|                          0.0|                   0.0|             0.0|       0.0|              1.0|       10.0|                           0.0|                     0.0|                      0.0|                       1.0|                     5.0|                    0.0|                         0.0|                0.0|               1.0|             0|  [30.0,4.0,1.0,1.0]|[0.26669222995287...|\n",
            "|                 0.0|                    0.0|                        1.0|                          1.0|                   0.0|             0.0|      15.0|              5.0|        1.0|                           0.0|                     0.0|                      0.0|                       0.0|                     4.0|                    1.0|                         0.0|                0.0|               1.0|             0|[15.0,13.32975740...|[-2.1656772322352...|\n",
            "|                 0.0|                    0.0|                        1.0|                          0.0|                   0.0|             0.0|      23.0|              3.0|        2.0|                           0.0|                     0.0|                      0.0|                       1.0|                     5.0|                    5.0|                         0.0|                0.0|               1.0|             0|[35.0,13.32975740...|[1.07748205068225...|\n",
            "|                 0.0|                    0.0|                        6.0|                          0.0|                   0.0|             0.0|      19.0|              1.0|       10.0|                           0.0|                     0.0|                      0.0|                       2.0|                    16.0|                    2.0|                         0.0|                0.0|               1.0|             0|[15.0,13.32975740...|[-2.1656772322352...|\n",
            "|                 0.0|                    0.0|                        0.0|                          1.0|                   0.0|             0.0|       3.0|              7.0|       10.0|                           0.0|                     0.0|                      0.0|                       1.0|                     0.0|                    0.0|                         0.0|                0.0|               1.0|             0|[30.0,13.32975740...|[0.26669222995287...|\n",
            "|                 0.0|                    0.0|                        0.0|                          2.0|                   0.0|             0.0|       6.0|              1.0|        8.0|                           0.0|                     0.0|                      0.0|                       1.0|                     5.0|                    0.0|                         0.0|                0.0|               1.0|             0|[30.0,13.32975740...|[0.26669222995287...|\n",
            "|                 0.0|                    0.0|                        2.0|                          0.0|                   0.0|             0.0|       6.0|              2.0|        9.0|                           0.0|                     0.0|                      0.0|                       0.0|                     0.0|                    2.0|                         0.0|                0.0|               1.0|             0|[30.0,13.32975740...|[0.26669222995287...|\n",
            "|                 0.0|                    0.0|                        1.0|                          0.0|                   0.0|             0.0|      21.0|              2.0|        9.0|                           2.0|                     1.0|                      0.0|                       1.0|                     5.0|                    2.0|                         0.0|                1.0|               1.0|             0|[25.0,13.32975740...|[-0.5440975907764...|\n",
            "|                 0.0|                    0.0|                        1.0|                          0.0|                   0.0|             0.0|      11.0|              3.0|        6.0|                           0.0|                     0.0|                      0.0|                       0.0|                     0.0|                    5.0|                         0.0|                0.0|               1.0|             0|[30.0,13.32975740...|[0.26669222995287...|\n",
            "|                 0.0|                    0.0|                        1.0|                          0.0|                   0.0|             0.0|      14.0|              1.0|        7.0|                           0.0|                     0.0|                      0.0|                       0.0|                     0.0|                    1.0|                         0.0|                0.0|               1.0|             0|  [35.0,2.0,4.0,1.0]|[1.07748205068225...|\n",
            "|                 0.0|                    0.0|                        1.0|                          0.0|                   0.0|             0.0|       5.0|              1.0|        4.0|                           1.0|                     1.0|                      0.0|                       1.0|                     5.0|                    5.0|                         1.0|                0.0|               1.0|             0|[30.0,13.32975740...|[0.26669222995287...|\n",
            "|                 0.0|                    0.0|                        2.0|                          0.0|                   0.0|             0.0|      10.0|              6.0|       10.0|                           2.0|                     1.0|                      0.0|                       0.0|                     4.0|                    0.0|                         0.0|                0.0|               1.0|             0|[30.0,13.32975740...|[0.26669222995287...|\n",
            "+--------------------+-----------------------+---------------------------+-----------------------------+----------------------+----------------+----------+-----------------+-----------+------------------------------+------------------------+-------------------------+--------------------------+------------------------+-----------------------+----------------------------+-------------------+------------------+--------------+--------------------+--------------------+\n",
            "only showing top 20 rows\n",
            "\n"
          ]
        }
      ]
    },
    {
      "cell_type": "markdown",
      "source": [
        "**Algorithms/Visualizations**"
      ],
      "metadata": {
        "id": "ME16HJKQ-3V0"
      }
    },
    {
      "cell_type": "code",
      "source": [
        "from pyspark.sql.functions import col\n",
        "from pyspark.ml.feature import VectorAssembler\n",
        "from pyspark.ml.evaluation import MulticlassClassificationEvaluator\n",
        "\n",
        "feature_columns = [col for col in df_cleaned.columns if col != \"DAMAGE_encoded\" and col != \"features\"]\n"
      ],
      "metadata": {
        "id": "rAMxCcQp_AYg"
      },
      "execution_count": 35,
      "outputs": []
    },
    {
      "cell_type": "code",
      "source": [
        "feature_columns"
      ],
      "metadata": {
        "colab": {
          "base_uri": "https://localhost:8080/"
        },
        "id": "U44fJWPpd2E9",
        "outputId": "83a34e36-7661-4807-8d96-b483d51279bf"
      },
      "execution_count": 36,
      "outputs": [
        {
          "output_type": "execute_result",
          "data": {
            "text/plain": [
              "['INJURIES_FATAL',\n",
              " 'INJURIES_INCAPACITATING',\n",
              " 'INJURIES_NON_INCAPACITATING',\n",
              " 'INJURIES_REPORTED_NOT_EVIDENT',\n",
              " 'INJURIES_NO_INDICATION',\n",
              " 'INJURIES_UNKNOWN',\n",
              " 'CRASH_HOUR',\n",
              " 'CRASH_DAY_OF_WEEK',\n",
              " 'CRASH_MONTH',\n",
              " 'TRAFFIC_CONTROL_DEVICE_encoded',\n",
              " 'DEVICE_CONDITION_encoded',\n",
              " 'WEATHER_CONDITION_encoded',\n",
              " 'LIGHTING_CONDITION_encoded',\n",
              " 'FIRST_CRASH_TYPE_encoded',\n",
              " 'TRAFFICWAY_TYPE_encoded',\n",
              " 'ROADWAY_SURFACE_COND_encoded',\n",
              " 'ROAD_DEFECT_encoded',\n",
              " 'CRASH_TYPE_encoded',\n",
              " 'scaled_features']"
            ]
          },
          "metadata": {},
          "execution_count": 36
        }
      ]
    },
    {
      "cell_type": "code",
      "source": [
        "# Assemble the final features into a single vector column\n",
        "final_assembler = VectorAssembler(inputCols=feature_columns, outputCol=\"fin_features\")\n",
        "df_data = final_assembler.transform(df_cleaned)\n",
        "\n",
        "# Split the dataset into training and testing sets\n",
        "train_data, test_data = df_data.randomSplit([0.8, 0.2], seed=21)"
      ],
      "metadata": {
        "id": "ZhIRKrJoeTyS"
      },
      "execution_count": 37,
      "outputs": []
    },
    {
      "cell_type": "code",
      "source": [
        "train_data.select(\"fin_features\")"
      ],
      "metadata": {
        "colab": {
          "base_uri": "https://localhost:8080/"
        },
        "id": "10LOJs7WsXxo",
        "outputId": "c5f4c092-acd3-47de-f2e2-a5dc783b612f"
      },
      "execution_count": 38,
      "outputs": [
        {
          "output_type": "execute_result",
          "data": {
            "text/plain": [
              "DataFrame[fin_features: vector]"
            ]
          },
          "metadata": {},
          "execution_count": 38
        }
      ]
    },
    {
      "cell_type": "code",
      "source": [
        "from sklearn.metrics import confusion_matrix\n",
        "import matplotlib.pyplot as plt\n",
        "import seaborn as sns\n",
        "import pandas as pd"
      ],
      "metadata": {
        "id": "0lynSaEptWjO"
      },
      "execution_count": 39,
      "outputs": []
    },
    {
      "cell_type": "markdown",
      "source": [
        "**Random Forest**"
      ],
      "metadata": {
        "id": "4mLYxSYVWIXQ"
      }
    },
    {
      "cell_type": "code",
      "source": [
        "import time\n",
        "from pyspark.ml.classification import RandomForestClassifier\n",
        "\n",
        "\n",
        "start_time = time.time()\n",
        "rf = RandomForestClassifier(labelCol=\"DAMAGE_encoded\", featuresCol=\"fin_features\")\n",
        "\n",
        "# Train the model on the training set\n",
        "model = rf.fit(train_data)\n",
        "\n",
        "end_time = time.time()\n",
        "training_time = end_time - start_time\n",
        "print(f\"Training Time for SVM: {training_time} seconds\")\n",
        "\n",
        "# Make predictions on the test set\n",
        "predictions = model.transform(test_data)\n",
        "\n",
        "# Evaluate metrics\n",
        "evaluator_f1 = MulticlassClassificationEvaluator(labelCol=\"DAMAGE_encoded\", predictionCol=\"prediction\", metricName=\"f1\")\n",
        "evaluator_precision = MulticlassClassificationEvaluator(labelCol=\"DAMAGE_encoded\", predictionCol=\"prediction\", metricName=\"weightedPrecision\")\n",
        "evaluator_recall = MulticlassClassificationEvaluator(labelCol=\"DAMAGE_encoded\", predictionCol=\"prediction\", metricName=\"weightedRecall\")\n",
        "evaluator_accuracy = MulticlassClassificationEvaluator(labelCol=\"DAMAGE_encoded\", predictionCol=\"prediction\", metricName=\"accuracy\")\n",
        "\n",
        "f1_score = evaluator_f1.evaluate(predictions)\n",
        "precision = evaluator_precision.evaluate(predictions)\n",
        "recall = evaluator_recall.evaluate(predictions)\n",
        "accuracy = evaluator_accuracy.evaluate(predictions)\n",
        "\n",
        "print(f\"F1 Score: {f1_score}\")\n",
        "print(f\"Precision: {precision}\")\n",
        "print(f\"Recall: {recall}\")\n",
        "print(f\"Accuracy: {accuracy}\")\n",
        "\n",
        "# Convert predictions to Pandas for confusion matrix\n",
        "predictions_pd = predictions.select(\"DAMAGE_encoded\", \"prediction\").toPandas()\n",
        "\n",
        "# Get unique labels\n",
        "labels = sorted(predictions_pd[\"DAMAGE_encoded\"].unique())\n",
        "\n",
        "# Create confusion matrix\n",
        "cm = confusion_matrix(predictions_pd[\"DAMAGE_encoded\"], predictions_pd[\"prediction\"], labels=labels)\n",
        "\n",
        "# Plot confusion matrix\n",
        "plt.figure(figsize=(8, 6))\n",
        "sns.heatmap(cm, annot=True, fmt=\"d\", cmap=\"Blues\", xticklabels=labels, yticklabels=labels)\n",
        "plt.title(\"Confusion Matrix\")\n",
        "plt.xlabel(\"Predicted Label\")\n",
        "plt.ylabel(\"True Label\")\n",
        "\n",
        "plt.show()\n"
      ],
      "metadata": {
        "colab": {
          "base_uri": "https://localhost:8080/",
          "height": 633
        },
        "id": "ftF590W-WBjw",
        "outputId": "6152c6d2-96d7-41b3-c7c8-e60e0983680e"
      },
      "execution_count": 40,
      "outputs": [
        {
          "output_type": "stream",
          "name": "stdout",
          "text": [
            "F1 Score: 0.833669197716605\n",
            "Precision: 0.7865048053386289\n",
            "Recall: 0.8868510615309816\n",
            "Accuracy: 0.8868510615309816\n"
          ]
        },
        {
          "output_type": "display_data",
          "data": {
            "text/plain": [
              "<Figure size 800x600 with 2 Axes>"
            ],
            "image/png": "[encoded data removed]"
          },
          "metadata": {}
        }
      ]
    },
    {
      "cell_type": "markdown",
      "source": [
        "**Logistic Regression**"
      ],
      "metadata": {
        "id": "ISGi_oHWk4cQ"
      }
    },
    {
      "cell_type": "code",
      "source": [
        "from pyspark.ml.classification import LogisticRegression\n",
        "from pyspark.ml.evaluation import MulticlassClassificationEvaluator\n",
        "import matplotlib.pyplot as plt\n",
        "import numpy as np\n",
        "from pyspark.sql.functions import col\n",
        "import time\n",
        "\n",
        "start_time = time.time()\n",
        "# Define Logistic Regression\n",
        "lr = LogisticRegression(featuresCol=\"fin_features\", labelCol=\"DAMAGE_encoded\")\n",
        "\n",
        "# Fit the model\n",
        "lr_model = lr.fit(train_data)\n",
        "\n",
        "end_time = time.time()\n",
        "training_time = end_time - start_time\n",
        "print(f\"Training Time for SVM: {training_time} seconds\")\n",
        "\n",
        "# Make predictions on the test data\n",
        "predictions = lr_model.transform(test_data)\n",
        "\n",
        "# Evaluate Accuracy\n",
        "evaluator = MulticlassClassificationEvaluator(labelCol=\"DAMAGE_encoded\", predictionCol=\"prediction\", metricName=\"accuracy\")\n",
        "accuracy = evaluator.evaluate(predictions)\n",
        "\n",
        "# Evaluate F1 Score\n",
        "f1_evaluator = MulticlassClassificationEvaluator(labelCol=\"DAMAGE_encoded\", predictionCol=\"prediction\", metricName=\"f1\")\n",
        "f1_score = f1_evaluator.evaluate(predictions)\n",
        "\n",
        "# Evaluate Precision\n",
        "precision_evaluator = MulticlassClassificationEvaluator(labelCol=\"DAMAGE_encoded\", predictionCol=\"prediction\", metricName=\"weightedPrecision\")\n",
        "precision = precision_evaluator.evaluate(predictions)\n",
        "\n",
        "# Evaluate Recall\n",
        "recall_evaluator = MulticlassClassificationEvaluator(labelCol=\"DAMAGE_encoded\", predictionCol=\"prediction\", metricName=\"weightedRecall\")\n",
        "recall = recall_evaluator.evaluate(predictions)\n",
        "\n",
        "# Print Metrics\n",
        "print(f\"Accuracy: {accuracy}\")\n",
        "print(f\"F1 Score: {f1_score}\")\n",
        "print(f\"Precision: {precision}\")\n",
        "print(f\"Recall: {recall}\")\n",
        "\n",
        "# Create Confusion Matrix\n",
        "confusion_matrix = predictions.groupBy(\"DAMAGE_encoded\", \"prediction\").count().toPandas()\n",
        "\n",
        "# Pivot Confusion Matrix for Plotting\n",
        "pivot_matrix = confusion_matrix.pivot(index=\"DAMAGE_encoded\", columns=\"prediction\", values=\"count\").fillna(0)\n",
        "\n",
        "# Convert to NumPy Array for Plotting\n",
        "confusion_array = pivot_matrix.to_numpy()\n",
        "\n",
        "# Plot Confusion Matrix\n",
        "fig, ax = plt.subplots(figsize=(8, 6))\n",
        "im = ax.imshow(confusion_array, cmap=\"Blues\")\n",
        "\n",
        "# Add labels\n",
        "ax.set_xlabel('Predicted Labels')\n",
        "ax.set_ylabel('True Labels')\n",
        "ax.set_title('Confusion Matrix')\n",
        "ax.set_xticks(np.arange(confusion_array.shape[1]))\n",
        "ax.set_yticks(np.arange(confusion_array.shape[0]))\n",
        "ax.set_xticklabels(pivot_matrix.columns)\n",
        "ax.set_yticklabels(pivot_matrix.index)\n",
        "\n",
        "# Display counts on the matrix\n",
        "for i in range(confusion_array.shape[0]):\n",
        "    for j in range(confusion_array.shape[1]):\n",
        "        text = ax.text(j, i, int(confusion_array[i, j]), ha=\"center\", va=\"center\", color=\"black\")\n",
        "\n",
        "plt.colorbar(im)\n",
        "plt.show()\n"
      ],
      "metadata": {
        "colab": {
          "base_uri": "https://localhost:8080/",
          "height": 633
        },
        "id": "Y-GOpmzq4yBX",
        "outputId": "138d5b49-a040-4fe3-82f1-0ae943ec5454"
      },
      "execution_count": 41,
      "outputs": [
        {
          "output_type": "stream",
          "name": "stdout",
          "text": [
            "Accuracy: 0.8867902868564638\n",
            "F1 Score: 0.8336389186784564\n",
            "Precision: 0.7864987064569121\n",
            "Recall: 0.8867902868564638\n"
          ]
        },
        {
          "output_type": "display_data",
          "data": {
            "text/plain": [
              "<Figure size 800x600 with 2 Axes>"
            ],
            "image/png": "[encoded data removed]"
          },
          "metadata": {}
        }
      ]
    },
    {
      "cell_type": "markdown",
      "source": [
        "**Decision Tree**"
      ],
      "metadata": {
        "id": "A_eqUmrxlMBI"
      }
    },
    {
      "cell_type": "code",
      "source": [
        "from pyspark.ml.classification import DecisionTreeClassifier\n",
        "from pyspark.ml.evaluation import MulticlassClassificationEvaluator\n",
        "import matplotlib.pyplot as plt\n",
        "import numpy as np\n",
        "from pyspark.sql.functions import col\n",
        "import time\n",
        "\n",
        "start_time = time.time()\n",
        "# Define Decision Tree\n",
        "dt = DecisionTreeClassifier(featuresCol=\"fin_features\", labelCol=\"DAMAGE_encoded\")\n",
        "\n",
        "# Train the model\n",
        "dt_model = dt.fit(train_data)\n",
        "\n",
        "end_time = time.time()\n",
        "training_time = end_time - start_time\n",
        "print(f\"Training Time for SVM: {training_time} seconds\")\n",
        "\n",
        "# Make predictions\n",
        "dt_predictions = dt_model.transform(test_data)\n",
        "\n",
        "# Evaluate Accuracy\n",
        "evaluator = MulticlassClassificationEvaluator(labelCol=\"DAMAGE_encoded\", predictionCol=\"prediction\", metricName=\"accuracy\")\n",
        "accuracy = evaluator.evaluate(dt_predictions)\n",
        "\n",
        "# Evaluate F1 Score\n",
        "f1_evaluator = MulticlassClassificationEvaluator(labelCol=\"DAMAGE_encoded\", predictionCol=\"prediction\", metricName=\"f1\")\n",
        "f1_score = f1_evaluator.evaluate(dt_predictions)\n",
        "\n",
        "# Evaluate Precision\n",
        "precision_evaluator = MulticlassClassificationEvaluator(labelCol=\"DAMAGE_encoded\", predictionCol=\"prediction\", metricName=\"weightedPrecision\")\n",
        "precision = precision_evaluator.evaluate(dt_predictions)\n",
        "\n",
        "# Evaluate Recall\n",
        "recall_evaluator = MulticlassClassificationEvaluator(labelCol=\"DAMAGE_encoded\", predictionCol=\"prediction\", metricName=\"weightedRecall\")\n",
        "recall = recall_evaluator.evaluate(dt_predictions)\n",
        "\n",
        "# Print Metrics\n",
        "print(f\"Accuracy: {accuracy}\")\n",
        "print(f\"F1 Score: {f1_score}\")\n",
        "print(f\"Precision: {precision}\")\n",
        "print(f\"Recall: {recall}\")\n",
        "\n",
        "# Create Confusion Matrix\n",
        "confusion_matrix = dt_predictions.groupBy(\"DAMAGE_encoded\", \"prediction\").count().toPandas()\n",
        "\n",
        "# Pivot Confusion Matrix for Plotting\n",
        "pivot_matrix = confusion_matrix.pivot(index=\"DAMAGE_encoded\", columns=\"prediction\", values=\"count\").fillna(0)\n",
        "\n",
        "# Convert to NumPy Array for Plotting\n",
        "confusion_array = pivot_matrix.to_numpy()\n",
        "\n",
        "# Plot Confusion Matrix\n",
        "fig, ax = plt.subplots(figsize=(8, 6))\n",
        "im = ax.imshow(confusion_array, cmap=\"Blues\")\n",
        "\n",
        "# Add labels\n",
        "ax.set_xlabel('Predicted Labels')\n",
        "ax.set_ylabel('True Labels')\n",
        "ax.set_title('Confusion Matrix')\n",
        "ax.set_xticks(np.arange(confusion_array.shape[1]))\n",
        "ax.set_yticks(np.arange(confusion_array.shape[0]))\n",
        "ax.set_xticklabels(pivot_matrix.columns)\n",
        "ax.set_yticklabels(pivot_matrix.index)\n",
        "\n",
        "# Display counts on the matrix\n",
        "for i in range(confusion_array.shape[0]):\n",
        "    for j in range(confusion_array.shape[1]):\n",
        "        text = ax.text(j, i, int(confusion_array[i, j]), ha=\"center\", va=\"center\", color=\"black\")\n",
        "\n",
        "plt.colorbar(im)\n",
        "plt.show()\n"
      ],
      "metadata": {
        "colab": {
          "base_uri": "https://localhost:8080/",
          "height": 633
        },
        "id": "RqAI0kvWWrv1",
        "outputId": "fa8ed78e-80e6-48b9-e8b6-6a0d0b735960"
      },
      "execution_count": 42,
      "outputs": [
        {
          "output_type": "stream",
          "name": "stdout",
          "text": [
            "Accuracy: 0.8904502728107612\n",
            "F1 Score: 0.8548148835359268\n",
            "Precision: 0.8619016672333109\n",
            "Recall: 0.8904502728107612\n"
          ]
        },
        {
          "output_type": "display_data",
          "data": {
            "text/plain": [
              "<Figure size 800x600 with 2 Axes>"
            ],
            "image/png": "[encoded data removed]"
          },
          "metadata": {}
        }
      ]
    },
    {
      "cell_type": "code",
      "source": [
        "a=df_cleaned.drop"
      ],
      "metadata": {
        "id": "7J3tyysYIUlq"
      },
      "execution_count": 43,
      "outputs": []
    },
    {
      "cell_type": "code",
      "source": [
        "d=df_cleaned.drop('features','scaled_features')"
      ],
      "metadata": {
        "id": "S8vgiUG1HvpZ"
      },
      "execution_count": 44,
      "outputs": []
    },
    {
      "cell_type": "markdown",
      "source": [
        "**Naive Bayes**"
      ],
      "metadata": {
        "id": "1LoxGWzGm1Ky"
      }
    },
    {
      "cell_type": "code",
      "source": [
        "from pyspark.ml.classification import NaiveBayes\n",
        "from pyspark.sql.functions import col\n",
        "from pyspark.ml.feature import VectorAssembler\n",
        "from pyspark.ml.evaluation import MulticlassClassificationEvaluator\n",
        "import matplotlib.pyplot as plt\n",
        "import numpy as np\n",
        "import time\n",
        "\n",
        "# Define the feature columns for the vector assembler\n",
        "feature_columns = [col for col in d.columns if col != \"DAMAGE_encoded\" and col != \"features\"]\n",
        "\n",
        "# Assemble the final features into a single vector column\n",
        "final_assembler = VectorAssembler(inputCols=feature_columns, outputCol=\"fin_features\")\n",
        "df_data = final_assembler.transform(d)\n",
        "print(df_data.columns)\n",
        "\n",
        "# Split the dataset into training and testing sets\n",
        "training_data, testing_data = df_data.randomSplit([0.8, 0.2], seed=42)\n",
        "print(training_data.columns)\n",
        "\n",
        "start_time = time.time()\n",
        "# Define Naive Bayes\n",
        "nb = NaiveBayes(featuresCol=\"fin_features\", labelCol=\"DAMAGE_encoded\")\n",
        "\n",
        "# Train the model\n",
        "nb_model = nb.fit(training_data)\n",
        "\n",
        "end_time = time.time()\n",
        "training_time = end_time - start_time\n",
        "print(f\"Training Time for SVM: {training_time} seconds\")\n",
        "\n",
        "# Make predictions\n",
        "nb_predictions = nb_model.transform(testing_data)\n",
        "\n",
        "# Evaluate Accuracy\n",
        "evaluator = MulticlassClassificationEvaluator(labelCol=\"DAMAGE_encoded\", predictionCol=\"prediction\", metricName=\"accuracy\")\n",
        "accuracy = evaluator.evaluate(nb_predictions)\n",
        "\n",
        "# Evaluate F1 Score\n",
        "f1_evaluator = MulticlassClassificationEvaluator(labelCol=\"DAMAGE_encoded\", predictionCol=\"prediction\", metricName=\"f1\")\n",
        "f1_score = f1_evaluator.evaluate(nb_predictions)\n",
        "\n",
        "# Evaluate Precision\n",
        "precision_evaluator = MulticlassClassificationEvaluator(labelCol=\"DAMAGE_encoded\", predictionCol=\"prediction\", metricName=\"weightedPrecision\")\n",
        "precision = precision_evaluator.evaluate(nb_predictions)\n",
        "\n",
        "# Evaluate Recall\n",
        "recall_evaluator = MulticlassClassificationEvaluator(labelCol=\"DAMAGE_encoded\", predictionCol=\"prediction\", metricName=\"weightedRecall\")\n",
        "recall = recall_evaluator.evaluate(nb_predictions)\n",
        "\n",
        "# Print Metrics\n",
        "print(f\"Accuracy: {accuracy}\")\n",
        "print(f\"F1 Score: {f1_score}\")\n",
        "print(f\"Precision: {precision}\")\n",
        "print(f\"Recall: {recall}\")\n",
        "\n",
        "# Create Confusion Matrix\n",
        "confusion_matrix = nb_predictions.groupBy(\"DAMAGE_encoded\", \"prediction\").count().toPandas()\n",
        "\n",
        "# Pivot Confusion Matrix for Plotting\n",
        "pivot_matrix = confusion_matrix.pivot(index=\"DAMAGE_encoded\", columns=\"prediction\", values=\"count\").fillna(0)\n",
        "\n",
        "# Convert to NumPy Array for Plotting\n",
        "confusion_array = pivot_matrix.to_numpy()\n",
        "\n",
        "# Plot Confusion Matrix\n",
        "fig, ax = plt.subplots(figsize=(8, 6))\n",
        "im = ax.imshow(confusion_array, cmap=\"Blues\")\n",
        "\n",
        "# Add labels\n",
        "ax.set_xlabel('Predicted Labels')\n",
        "ax.set_ylabel('True Labels')\n",
        "ax.set_title('Confusion Matrix')\n",
        "ax.set_xticks(np.arange(confusion_array.shape[1]))\n",
        "ax.set_yticks(np.arange(confusion_array.shape[0]))\n",
        "ax.set_xticklabels(pivot_matrix.columns)\n",
        "ax.set_yticklabels(pivot_matrix.index)\n",
        "\n",
        "# Display counts on the matrix\n",
        "for i in range(confusion_array.shape[0]):\n",
        "    for j in range(confusion_array.shape[1]):\n",
        "        text = ax.text(j, i, int(confusion_array[i, j]), ha=\"center\", va=\"center\", color=\"black\")\n",
        "\n",
        "plt.colorbar(im)\n",
        "plt.show()\n"
      ],
      "metadata": {
        "colab": {
          "base_uri": "https://localhost:8080/",
          "height": 688
        },
        "id": "NA66gFmmmyeB",
        "outputId": "a63db52b-37ac-4819-cc1b-887ad26cef27"
      },
      "execution_count": 45,
      "outputs": [
        {
          "metadata": {
            "tags": null
          },
          "name": "stdout",
          "output_type": "stream",
          "text": [
            "['INJURIES_FATAL', 'INJURIES_INCAPACITATING', 'INJURIES_NON_INCAPACITATING', 'INJURIES_REPORTED_NOT_EVIDENT', 'INJURIES_NO_INDICATION', 'INJURIES_UNKNOWN', 'CRASH_HOUR', 'CRASH_DAY_OF_WEEK', 'CRASH_MONTH', 'TRAFFIC_CONTROL_DEVICE_encoded', 'DEVICE_CONDITION_encoded', 'WEATHER_CONDITION_encoded', 'LIGHTING_CONDITION_encoded', 'FIRST_CRASH_TYPE_encoded', 'TRAFFICWAY_TYPE_encoded', 'ROADWAY_SURFACE_COND_encoded', 'ROAD_DEFECT_encoded', 'CRASH_TYPE_encoded', 'DAMAGE_encoded', 'fin_features']\n",
            "['INJURIES_FATAL', 'INJURIES_INCAPACITATING', 'INJURIES_NON_INCAPACITATING', 'INJURIES_REPORTED_NOT_EVIDENT', 'INJURIES_NO_INDICATION', 'INJURIES_UNKNOWN', 'CRASH_HOUR', 'CRASH_DAY_OF_WEEK', 'CRASH_MONTH', 'TRAFFIC_CONTROL_DEVICE_encoded', 'DEVICE_CONDITION_encoded', 'WEATHER_CONDITION_encoded', 'LIGHTING_CONDITION_encoded', 'FIRST_CRASH_TYPE_encoded', 'TRAFFICWAY_TYPE_encoded', 'ROADWAY_SURFACE_COND_encoded', 'ROAD_DEFECT_encoded', 'CRASH_TYPE_encoded', 'DAMAGE_encoded', 'fin_features']\n",
            "Accuracy: 0.8820762686093109\n",
            "F1 Score: 0.8332707634005694\n",
            "Precision: 0.8069264354628914\n",
            "Recall: 0.8820762686093109\n"
          ]
        },
        {
          "output_type": "display_data",
          "data": {
            "text/plain": [
              "<Figure size 800x600 with 2 Axes>"
            ],
            "image/png": "[encoded data removed]"
          },
          "metadata": {}
        }
      ]
    },
    {
      "cell_type": "markdown",
      "source": [
        "**Gradient Boosted Trees (XGBClassifier)**"
      ],
      "metadata": {
        "id": "4bNHjwx4pvSJ"
      }
    },
    {
      "cell_type": "code",
      "source": [
        "from pyspark.ml.classification import GBTClassifier\n",
        "from pyspark.ml.evaluation import MulticlassClassificationEvaluator\n",
        "from pyspark.sql.functions import col\n",
        "from pyspark.ml.feature import VectorAssembler\n",
        "import matplotlib.pyplot as plt\n",
        "import numpy as np\n",
        "import time\n",
        "\n",
        "# Define the feature columns for the vector assembler\n",
        "feature_columns = [col for col in df_cleaned.columns if col != \"DAMAGE_encoded\" and col != \"features\"]\n",
        "\n",
        "start_time = time.time()\n",
        "\n",
        "# Define Gradient Boosted Trees\n",
        "gbt = GBTClassifier(featuresCol=\"fin_features\", labelCol=\"DAMAGE_encoded\", maxIter=100)\n",
        "\n",
        "# Train the model\n",
        "gbt_model = gbt.fit(training_data)\n",
        "\n",
        "end_time = time.time()\n",
        "training_time = end_time - start_time\n",
        "print(f\"Training Time for SVM: {training_time} seconds\")\n",
        "\n",
        "# Make predictions\n",
        "gbt_predictions = gbt_model.transform(testing_data)\n",
        "\n",
        "# Evaluate Accuracy\n",
        "accuracy_evaluator = MulticlassClassificationEvaluator(labelCol=\"DAMAGE_encoded\", predictionCol=\"prediction\", metricName=\"accuracy\")\n",
        "accuracy = accuracy_evaluator.evaluate(gbt_predictions)\n",
        "\n",
        "# Evaluate F1 Score\n",
        "f1_evaluator = MulticlassClassificationEvaluator(labelCol=\"DAMAGE_encoded\", predictionCol=\"prediction\", metricName=\"f1\")\n",
        "f1_score = f1_evaluator.evaluate(gbt_predictions)\n",
        "\n",
        "# Evaluate Precision\n",
        "precision_evaluator = MulticlassClassificationEvaluator(labelCol=\"DAMAGE_encoded\", predictionCol=\"prediction\", metricName=\"weightedPrecision\")\n",
        "precision = precision_evaluator.evaluate(gbt_predictions)\n",
        "\n",
        "# Evaluate Recall\n",
        "recall_evaluator = MulticlassClassificationEvaluator(labelCol=\"DAMAGE_encoded\", predictionCol=\"prediction\", metricName=\"weightedRecall\")\n",
        "recall = recall_evaluator.evaluate(gbt_predictions)\n",
        "\n",
        "# Print Metrics\n",
        "print(f\"Accuracy: {accuracy}\")\n",
        "print(f\"F1 Score: {f1_score}\")\n",
        "print(f\"Precision: {precision}\")\n",
        "print(f\"Recall: {recall}\")\n",
        "\n",
        "# Create Confusion Matrix\n",
        "confusion_matrix = gbt_predictions.groupBy(\"DAMAGE_encoded\", \"prediction\").count().toPandas()\n",
        "\n",
        "# Pivot Confusion Matrix for Plotting\n",
        "pivot_matrix = confusion_matrix.pivot(index=\"DAMAGE_encoded\", columns=\"prediction\", values=\"count\").fillna(0)\n",
        "\n",
        "# Convert to NumPy Array for Plotting\n",
        "confusion_array = pivot_matrix.to_numpy()\n",
        "\n",
        "# Plot Confusion Matrix\n",
        "fig, ax = plt.subplots(figsize=(8, 6))\n",
        "im = ax.imshow(confusion_array, cmap=\"Blues\")\n",
        "\n",
        "# Add labels\n",
        "ax.set_xlabel('Predicted Labels')\n",
        "ax.set_ylabel('True Labels')\n",
        "ax.set_title('Confusion Matrix')\n",
        "ax.set_xticks(np.arange(confusion_array.shape[1]))\n",
        "ax.set_yticks(np.arange(confusion_array.shape[0]))\n",
        "ax.set_xticklabels(pivot_matrix.columns)\n",
        "ax.set_yticklabels(pivot_matrix.index)\n",
        "\n",
        "# Display counts on the matrix\n",
        "for i in range(confusion_array.shape[0]):\n",
        "    for j in range(confusion_array.shape[1]):\n",
        "        text = ax.text(j, i, int(confusion_array[i, j]), ha=\"center\", va=\"center\", color=\"black\")\n",
        "\n",
        "plt.colorbar(im)\n",
        "plt.show()\n"
      ],
      "metadata": {
        "colab": {
          "base_uri": "https://localhost:8080/",
          "height": 633
        },
        "id": "1UAmRltjnmvo",
        "outputId": "a5bc6d3a-140f-4462-95f3-b4f499b53361"
      },
      "execution_count": 46,
      "outputs": [
        {
          "metadata": {
            "tags": null
          },
          "name": "stdout",
          "output_type": "stream",
          "text": [
            "Accuracy: 0.8906384100231792\n",
            "F1 Score: 0.8553043195895673\n",
            "Precision: 0.863146986374474\n",
            "Recall: 0.8906384100231793\n"
          ]
        },
        {
          "output_type": "display_data",
          "data": {
            "text/plain": [
              "<Figure size 800x600 with 2 Axes>"
            ],
            "image/png": "[encoded data removed]"
          },
          "metadata": {}
        }
      ]
    },
    {
      "cell_type": "markdown",
      "source": [
        "**Support Vector Machines (SVM)**"
      ],
      "metadata": {
        "id": "GWBTzZlkrfj7"
      }
    },
    {
      "cell_type": "code",
      "source": [
        "from pyspark.ml.classification import LinearSVC\n",
        "from pyspark.ml.evaluation import MulticlassClassificationEvaluator\n",
        "from pyspark.sql.functions import col\n",
        "from pyspark.ml.feature import VectorAssembler\n",
        "import matplotlib.pyplot as plt\n",
        "import numpy as np\n",
        "import time\n",
        "\n",
        "# Define the feature columns for the vector assembler\n",
        "feature_columns = [col for col in df_cleaned.columns if col != \"DAMAGE_encoded\" and col != \"features\"]\n",
        "\n",
        "\n",
        "start_time = time.time()\n",
        "\n",
        "# Define Linear Support Vector Classifier (SVM)\n",
        "svm = LinearSVC(featuresCol=\"fin_features\", labelCol=\"DAMAGE_encoded\")\n",
        "\n",
        "# Train the model\n",
        "svm_model = svm.fit(training_data)\n",
        "\n",
        "end_time = time.time()\n",
        "training_time = end_time - start_time\n",
        "print(f\"Training Time for SVM: {training_time} seconds\")\n",
        "\n",
        "# Make predictions\n",
        "svm_predictions = svm_model.transform(testing_data)\n",
        "\n",
        "# Evaluate Accuracy\n",
        "accuracy_evaluator = MulticlassClassificationEvaluator(labelCol=\"DAMAGE_encoded\", predictionCol=\"prediction\", metricName=\"accuracy\")\n",
        "accuracy = accuracy_evaluator.evaluate(svm_predictions)\n",
        "\n",
        "# Evaluate F1 Score\n",
        "f1_evaluator = MulticlassClassificationEvaluator(labelCol=\"DAMAGE_encoded\", predictionCol=\"prediction\", metricName=\"f1\")\n",
        "f1_score = f1_evaluator.evaluate(svm_predictions)\n",
        "\n",
        "# Evaluate Precision\n",
        "precision_evaluator = MulticlassClassificationEvaluator(labelCol=\"DAMAGE_encoded\", predictionCol=\"prediction\", metricName=\"weightedPrecision\")\n",
        "precision = precision_evaluator.evaluate(svm_predictions)\n",
        "\n",
        "# Evaluate Recall\n",
        "recall_evaluator = MulticlassClassificationEvaluator(labelCol=\"DAMAGE_encoded\", predictionCol=\"prediction\", metricName=\"weightedRecall\")\n",
        "recall = recall_evaluator.evaluate(svm_predictions)\n",
        "\n",
        "# Print Metrics\n",
        "print(f\"Accuracy: {accuracy}\")\n",
        "print(f\"F1 Score: {f1_score}\")\n",
        "print(f\"Precision: {precision}\")\n",
        "print(f\"Recall: {recall}\")\n",
        "\n",
        "# Create Confusion Matrix\n",
        "confusion_matrix = svm_predictions.groupBy(\"DAMAGE_encoded\", \"prediction\").count().toPandas()\n",
        "\n",
        "# Pivot Confusion Matrix for Plotting\n",
        "pivot_matrix = confusion_matrix.pivot(index=\"DAMAGE_encoded\", columns=\"prediction\", values=\"count\").fillna(0)\n",
        "\n",
        "# Convert to NumPy Array for Plotting\n",
        "confusion_array = pivot_matrix.to_numpy()\n",
        "\n",
        "# Plot Confusion Matrix\n",
        "fig, ax = plt.subplots(figsize=(8, 6))\n",
        "im = ax.imshow(confusion_array, cmap=\"Blues\")\n",
        "\n",
        "# Add labels\n",
        "ax.set_xlabel('Predicted Labels')\n",
        "ax.set_ylabel('True Labels')\n",
        "ax.set_title('Confusion Matrix')\n",
        "ax.set_xticks(np.arange(confusion_array.shape[1]))\n",
        "ax.set_yticks(np.arange(confusion_array.shape[0]))\n",
        "ax.set_xticklabels(pivot_matrix.columns)\n",
        "ax.set_yticklabels(pivot_matrix.index)\n",
        "\n",
        "# Display counts on the matrix\n",
        "for i in range(confusion_array.shape[0]):\n",
        "    for j in range(confusion_array.shape[1]):\n",
        "        text = ax.text(j, i, int(confusion_array[i, j]), ha=\"center\", va=\"center\", color=\"black\")\n",
        "\n",
        "plt.colorbar(im)\n",
        "plt.show()\n"
      ],
      "metadata": {
        "colab": {
          "base_uri": "https://localhost:8080/",
          "height": 651
        },
        "id": "rCJcfoEBrAqC",
        "outputId": "023e8a2e-a5ac-445d-d76a-192b2050b9b2"
      },
      "execution_count": 47,
      "outputs": [
        {
          "output_type": "stream",
          "name": "stdout",
          "text": [
            "Training Time for SVM: 283.42291593551636 seconds\n",
            "Accuracy: 0.8865093899727661\n",
            "F1 Score: 0.8331778285198264\n",
            "Precision: 0.7858988985098858\n",
            "Recall: 0.8865093899727661\n"
          ]
        },
        {
          "output_type": "display_data",
          "data": {
            "text/plain": [
              "<Figure size 800x600 with 2 Axes>"
            ],
            "image/png": "[encoded data removed]"
          },
          "metadata": {}
        }
      ]
    },
    {
      "cell_type": "markdown",
      "source": [],
      "metadata": {
        "id": "Zo08_9jtsGdY"
      }
    },
    {
      "cell_type": "code",
      "source": [
        "# %%capture\n",
        "!pip install pyngrok\n",
        "\n",
        "from pyngrok import ngrok, conf\n",
        "import getpass\n",
        "\n",
        "print(\"https://dashboard.ngrok.com/get-started/your-authtoken\")\n",
        "conf.get_default().auth_token = getpass.getpass()\n",
        "\n",
        "ui_port = 4040\n",
        "public_url = ngrok.connect(ui_port).public_url\n",
        "print(f\" * ngrok tunnel \\\"{public_url}\\\" -> \\\"http://127.0.0.1:{ui_port}\\\"\")"
      ],
      "metadata": {
        "colab": {
          "base_uri": "https://localhost:8080/"
        },
        "id": "-G2ddXyaQs9K",
        "outputId": "a08bffad-d631-4923-cdef-bcf898222960"
      },
      "execution_count": 49,
      "outputs": [
        {
          "output_type": "stream",
          "name": "stdout",
          "text": [
            "Collecting pyngrok\n",
            "  Downloading pyngrok-7.2.1-py3-none-any.whl.metadata (8.3 kB)\n",
            "Requirement already satisfied: PyYAML>=5.1 in /usr/local/lib/python3.10/dist-packages (from pyngrok) (6.0.2)\n",
            "Downloading pyngrok-7.2.1-py3-none-any.whl (22 kB)\n",
            "Installing collected packages: pyngrok\n",
            "Successfully installed pyngrok-7.2.1\n",
            "https://dashboard.ngrok.com/get-started/your-authtoken\n",
            "··········\n"
          ]
        },
        {
          "output_type": "stream",
          "name": "stderr",
          "text": [
            "WARNING:pyngrok.process.ngrok:t=2024-11-24T17:56:17+0000 lvl=warn msg=\"can't bind default web address, trying alternatives\" obj=web addr=127.0.0.1:4040\n"
          ]
        },
        {
          "output_type": "stream",
          "name": "stdout",
          "text": [
            " * ngrok tunnel \"https://3510-35-229-36-166.ngrok-free.app\" -> \"http://127.0.0.1:4040\"\n"
          ]
        }
      ]
    }
  ],
  "metadata": {
    "colab": {
      "provenance": []
    },
    "kernelspec": {
      "display_name": "Python 3",
      "name": "python3"
    },
    "language_info": {
      "name": "python"
    }
  },
  "nbformat": 4,
  "nbformat_minor": 0
}